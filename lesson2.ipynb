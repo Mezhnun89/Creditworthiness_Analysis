{
 "cells": [
  {
   "cell_type": "markdown",
   "id": "a1409341-be3c-4a9d-9fbf-827cb8ef4122",
   "metadata": {},
   "source": [
    "# Исследование надёжности заёмщиков\n",
    "Заказчик — кредитный отдел банка. Нужно разобраться, влияет ли семейное положение и количество детей клиента на факт погашения кредита в срок. Входные данные от банка — статистика о платёжеспособности клиентов.\n",
    "\n",
    "Результаты исследования будут учтены при построении модели кредитного скоринга — специальной системы, которая оценивает способность потенциального заёмщика вернуть кредит банку."
   ]
  },
  {
   "cell_type": "markdown",
   "id": "c5bdcd02-985e-485d-b7f0-8cf5cfe73388",
   "metadata": {},
   "source": [
    "# 1. Откройте файл с данными и изучите общую информацию"
   ]
  },
  {
   "cell_type": "code",
   "execution_count": 1,
   "id": "3dfc153c-77ee-4463-92d4-0f15d93ef6f8",
   "metadata": {},
   "outputs": [
    {
     "name": "stdout",
     "output_type": "stream",
     "text": [
      "<class 'pandas.core.frame.DataFrame'>\n",
      "RangeIndex: 21525 entries, 0 to 21524\n",
      "Data columns (total 12 columns):\n",
      " #   Column            Non-Null Count  Dtype  \n",
      "---  ------            --------------  -----  \n",
      " 0   children          21525 non-null  int64  \n",
      " 1   days_employed     19351 non-null  float64\n",
      " 2   dob_years         21525 non-null  int64  \n",
      " 3   education         21525 non-null  object \n",
      " 4   education_id      21525 non-null  int64  \n",
      " 5   family_status     21525 non-null  object \n",
      " 6   family_status_id  21525 non-null  int64  \n",
      " 7   gender            21525 non-null  object \n",
      " 8   income_type       21525 non-null  object \n",
      " 9   debt              21525 non-null  int64  \n",
      " 10  total_income      19351 non-null  float64\n",
      " 11  purpose           21525 non-null  object \n",
      "dtypes: float64(2), int64(5), object(5)\n",
      "memory usage: 2.0+ MB\n"
     ]
    }
   ],
   "source": [
    "import pandas as pd\n",
    "import numpy as np\n",
    "from pymystem3 import Mystem \n",
    "from collections import Counter\n",
    "import warnings\n",
    "warnings.filterwarnings('ignore')\n",
    "m = Mystem()\n",
    "df = pd.read_csv('~/GitHub/lesson2/data.csv')\n",
    "df.info()"
   ]
  },
  {
   "cell_type": "code",
   "execution_count": 2,
   "id": "b83841c5-be36-4a35-b5f1-2e9e768e157a",
   "metadata": {},
   "outputs": [
    {
     "data": {
      "text/html": [
       "<div>\n",
       "<style scoped>\n",
       "    .dataframe tbody tr th:only-of-type {\n",
       "        vertical-align: middle;\n",
       "    }\n",
       "\n",
       "    .dataframe tbody tr th {\n",
       "        vertical-align: top;\n",
       "    }\n",
       "\n",
       "    .dataframe thead th {\n",
       "        text-align: right;\n",
       "    }\n",
       "</style>\n",
       "<table border=\"1\" class=\"dataframe\">\n",
       "  <thead>\n",
       "    <tr style=\"text-align: right;\">\n",
       "      <th></th>\n",
       "      <th>children</th>\n",
       "      <th>days_employed</th>\n",
       "      <th>dob_years</th>\n",
       "      <th>education</th>\n",
       "      <th>education_id</th>\n",
       "      <th>family_status</th>\n",
       "      <th>family_status_id</th>\n",
       "      <th>gender</th>\n",
       "      <th>income_type</th>\n",
       "      <th>debt</th>\n",
       "      <th>total_income</th>\n",
       "      <th>purpose</th>\n",
       "    </tr>\n",
       "  </thead>\n",
       "  <tbody>\n",
       "    <tr>\n",
       "      <th>11096</th>\n",
       "      <td>0</td>\n",
       "      <td>-2315.370850</td>\n",
       "      <td>42</td>\n",
       "      <td>среднее</td>\n",
       "      <td>1</td>\n",
       "      <td>гражданский брак</td>\n",
       "      <td>1</td>\n",
       "      <td>M</td>\n",
       "      <td>компаньон</td>\n",
       "      <td>0</td>\n",
       "      <td>139192.845977</td>\n",
       "      <td>сделка с подержанным автомобилем</td>\n",
       "    </tr>\n",
       "    <tr>\n",
       "      <th>1672</th>\n",
       "      <td>1</td>\n",
       "      <td>-1190.566743</td>\n",
       "      <td>54</td>\n",
       "      <td>среднее</td>\n",
       "      <td>1</td>\n",
       "      <td>гражданский брак</td>\n",
       "      <td>1</td>\n",
       "      <td>F</td>\n",
       "      <td>сотрудник</td>\n",
       "      <td>0</td>\n",
       "      <td>106436.116561</td>\n",
       "      <td>автомобили</td>\n",
       "    </tr>\n",
       "    <tr>\n",
       "      <th>5315</th>\n",
       "      <td>20</td>\n",
       "      <td>-2047.754733</td>\n",
       "      <td>24</td>\n",
       "      <td>среднее</td>\n",
       "      <td>1</td>\n",
       "      <td>женат / замужем</td>\n",
       "      <td>0</td>\n",
       "      <td>F</td>\n",
       "      <td>сотрудник</td>\n",
       "      <td>0</td>\n",
       "      <td>100415.236833</td>\n",
       "      <td>покупка коммерческой недвижимости</td>\n",
       "    </tr>\n",
       "    <tr>\n",
       "      <th>13085</th>\n",
       "      <td>0</td>\n",
       "      <td>330106.771115</td>\n",
       "      <td>62</td>\n",
       "      <td>среднее</td>\n",
       "      <td>1</td>\n",
       "      <td>женат / замужем</td>\n",
       "      <td>0</td>\n",
       "      <td>F</td>\n",
       "      <td>пенсионер</td>\n",
       "      <td>0</td>\n",
       "      <td>114119.849198</td>\n",
       "      <td>на покупку автомобиля</td>\n",
       "    </tr>\n",
       "    <tr>\n",
       "      <th>15109</th>\n",
       "      <td>0</td>\n",
       "      <td>-244.182441</td>\n",
       "      <td>21</td>\n",
       "      <td>среднее</td>\n",
       "      <td>1</td>\n",
       "      <td>Не женат / не замужем</td>\n",
       "      <td>4</td>\n",
       "      <td>M</td>\n",
       "      <td>сотрудник</td>\n",
       "      <td>0</td>\n",
       "      <td>164669.944295</td>\n",
       "      <td>операции со своей недвижимостью</td>\n",
       "    </tr>\n",
       "    <tr>\n",
       "      <th>17262</th>\n",
       "      <td>0</td>\n",
       "      <td>-207.676669</td>\n",
       "      <td>39</td>\n",
       "      <td>среднее</td>\n",
       "      <td>1</td>\n",
       "      <td>вдовец / вдова</td>\n",
       "      <td>2</td>\n",
       "      <td>F</td>\n",
       "      <td>компаньон</td>\n",
       "      <td>0</td>\n",
       "      <td>135163.190100</td>\n",
       "      <td>дополнительное образование</td>\n",
       "    </tr>\n",
       "    <tr>\n",
       "      <th>2954</th>\n",
       "      <td>0</td>\n",
       "      <td>-1417.570449</td>\n",
       "      <td>29</td>\n",
       "      <td>высшее</td>\n",
       "      <td>0</td>\n",
       "      <td>гражданский брак</td>\n",
       "      <td>1</td>\n",
       "      <td>F</td>\n",
       "      <td>компаньон</td>\n",
       "      <td>0</td>\n",
       "      <td>392135.657594</td>\n",
       "      <td>сыграть свадьбу</td>\n",
       "    </tr>\n",
       "    <tr>\n",
       "      <th>15581</th>\n",
       "      <td>0</td>\n",
       "      <td>-185.263416</td>\n",
       "      <td>34</td>\n",
       "      <td>высшее</td>\n",
       "      <td>0</td>\n",
       "      <td>женат / замужем</td>\n",
       "      <td>0</td>\n",
       "      <td>F</td>\n",
       "      <td>компаньон</td>\n",
       "      <td>0</td>\n",
       "      <td>267472.357738</td>\n",
       "      <td>на покупку автомобиля</td>\n",
       "    </tr>\n",
       "    <tr>\n",
       "      <th>1054</th>\n",
       "      <td>1</td>\n",
       "      <td>NaN</td>\n",
       "      <td>59</td>\n",
       "      <td>среднее</td>\n",
       "      <td>1</td>\n",
       "      <td>женат / замужем</td>\n",
       "      <td>0</td>\n",
       "      <td>M</td>\n",
       "      <td>компаньон</td>\n",
       "      <td>1</td>\n",
       "      <td>NaN</td>\n",
       "      <td>высшее образование</td>\n",
       "    </tr>\n",
       "    <tr>\n",
       "      <th>9017</th>\n",
       "      <td>1</td>\n",
       "      <td>-1457.500801</td>\n",
       "      <td>44</td>\n",
       "      <td>СРЕДНЕЕ</td>\n",
       "      <td>1</td>\n",
       "      <td>гражданский брак</td>\n",
       "      <td>1</td>\n",
       "      <td>F</td>\n",
       "      <td>сотрудник</td>\n",
       "      <td>1</td>\n",
       "      <td>157709.904672</td>\n",
       "      <td>на покупку автомобиля</td>\n",
       "    </tr>\n",
       "  </tbody>\n",
       "</table>\n",
       "</div>"
      ],
      "text/plain": [
       "       children  days_employed  dob_years education  education_id  \\\n",
       "11096         0   -2315.370850         42   среднее             1   \n",
       "1672          1   -1190.566743         54   среднее             1   \n",
       "5315         20   -2047.754733         24   среднее             1   \n",
       "13085         0  330106.771115         62   среднее             1   \n",
       "15109         0    -244.182441         21   среднее             1   \n",
       "17262         0    -207.676669         39   среднее             1   \n",
       "2954          0   -1417.570449         29    высшее             0   \n",
       "15581         0    -185.263416         34    высшее             0   \n",
       "1054          1            NaN         59   среднее             1   \n",
       "9017          1   -1457.500801         44   СРЕДНЕЕ             1   \n",
       "\n",
       "               family_status  family_status_id gender income_type  debt  \\\n",
       "11096       гражданский брак                 1      M   компаньон     0   \n",
       "1672        гражданский брак                 1      F   сотрудник     0   \n",
       "5315         женат / замужем                 0      F   сотрудник     0   \n",
       "13085        женат / замужем                 0      F   пенсионер     0   \n",
       "15109  Не женат / не замужем                 4      M   сотрудник     0   \n",
       "17262         вдовец / вдова                 2      F   компаньон     0   \n",
       "2954        гражданский брак                 1      F   компаньон     0   \n",
       "15581        женат / замужем                 0      F   компаньон     0   \n",
       "1054         женат / замужем                 0      M   компаньон     1   \n",
       "9017        гражданский брак                 1      F   сотрудник     1   \n",
       "\n",
       "        total_income                            purpose  \n",
       "11096  139192.845977   сделка с подержанным автомобилем  \n",
       "1672   106436.116561                         автомобили  \n",
       "5315   100415.236833  покупка коммерческой недвижимости  \n",
       "13085  114119.849198              на покупку автомобиля  \n",
       "15109  164669.944295    операции со своей недвижимостью  \n",
       "17262  135163.190100         дополнительное образование  \n",
       "2954   392135.657594                    сыграть свадьбу  \n",
       "15581  267472.357738              на покупку автомобиля  \n",
       "1054             NaN                 высшее образование  \n",
       "9017   157709.904672              на покупку автомобиля  "
      ]
     },
     "metadata": {},
     "output_type": "display_data"
    }
   ],
   "source": [
    "display(df.sample(10))"
   ]
  },
  {
   "cell_type": "markdown",
   "id": "28bd393c-ec4a-4fc4-85aa-7052f185fa69",
   "metadata": {},
   "source": [
    "**Вывод**\n",
    "\n",
    "Дата-фрейм имеет 12 колонок и 21 525 строк. В столбцах days_employed и total_income присустствуют пропуски, так как в них содержится 19 351 строках. Скорее всего они находяться в одних и тех же строчках. И соответственно возможно что в датасете присутствуют не платежеспособные клиенты (так как нет стажа и дохода), следовательно не целесообразно им давать кредит. Но наверняка это не известно. Но стоит обратить на это внимание."
   ]
  },
  {
   "cell_type": "markdown",
   "id": "9ae66d85-b28d-4241-ab94-24d34ab30c3b",
   "metadata": {},
   "source": [
    "# 2. Предобработка данных"
   ]
  },
  {
   "cell_type": "markdown",
   "id": "8b90dfdc-6ef1-4293-9e3c-3ea9814d7771",
   "metadata": {},
   "source": [
    "### Обработка пропущенных значений ежемесячного дохода\n",
    "\n",
    "- Заменим пустые значения в ежемесячном доходе на медианные по каждому типу занятости\n",
    "- Для этого проверим, в каких типах занятости встречаются пропущенные значения доходов"
   ]
  },
  {
   "cell_type": "code",
   "execution_count": 3,
   "id": "e703e5ff-c64f-42d4-bbe5-d9c615ca5702",
   "metadata": {},
   "outputs": [
    {
     "data": {
      "text/plain": [
       "income_type\n",
       "сотрудник          1105\n",
       "компаньон           508\n",
       "пенсионер           413\n",
       "госслужащий         147\n",
       "предприниматель       1\n",
       "Name: count, dtype: int64"
      ]
     },
     "execution_count": 3,
     "metadata": {},
     "output_type": "execute_result"
    }
   ],
   "source": [
    "df.loc[df['total_income'].isnull(), 'income_type'].value_counts()"
   ]
  },
  {
   "cell_type": "markdown",
   "id": "f91ff039-b617-4620-8074-a579b6d0883f",
   "metadata": {},
   "source": [
    "- Найдем медианные уровни дохода для каждого типа занятости"
   ]
  },
  {
   "cell_type": "code",
   "execution_count": 4,
   "id": "72815821-4408-48d1-be81-52b416709c3e",
   "metadata": {},
   "outputs": [
    {
     "data": {
      "text/plain": [
       "income_type\n",
       "безработный        131340.0\n",
       "в декрете           53829.0\n",
       "госслужащий        150448.0\n",
       "компаньон          172358.0\n",
       "пенсионер          118514.0\n",
       "предприниматель    499163.0\n",
       "сотрудник          142594.0\n",
       "студент             98202.0\n",
       "Name: total_income, dtype: float64"
      ]
     },
     "execution_count": 4,
     "metadata": {},
     "output_type": "execute_result"
    }
   ],
   "source": [
    "medians_total_income = df.groupby('income_type')['total_income'].median().round()\n",
    "medians_total_income"
   ]
  },
  {
   "cell_type": "markdown",
   "id": "4fff8193-0808-4129-816c-5c61a1d029c0",
   "metadata": {},
   "source": [
    "Медианный доход различается по группам - это может говорить о том, что выбранная характеристика (тип занятости) вполне описывает уровень дохода. Таким способом можно группировать по разным характеристикам или их сочетанию, чтобы найти наилучший вариант."
   ]
  },
  {
   "cell_type": "markdown",
   "id": "c741edbf-8331-4354-8175-0937892a190d",
   "metadata": {},
   "source": [
    "- Заменим пропущенные значения ежемесячного дохода на медианы по типам занятости."
   ]
  },
  {
   "cell_type": "code",
   "execution_count": 5,
   "id": "54e18e80-cb68-42b1-954e-c9d8b9cb5208",
   "metadata": {},
   "outputs": [],
   "source": [
    "df.loc[(df['total_income'].isnull()) & (df['income_type'] == 'сотрудник'), 'total_income'] = medians_total_income[6]\n",
    "df.loc[(df['total_income'].isnull()) & (df['income_type'] == 'компаньон'), 'total_income'] = medians_total_income[3]\n",
    "df.loc[(df['total_income'].isnull()) & (df['income_type'] == 'пенсионер'), 'total_income'] = medians_total_income[4]\n",
    "df.loc[(df['total_income'].isnull()) & (df['income_type'] == 'госслужащий'), 'total_income'] = medians_total_income[2]\n",
    "df.loc[(df['total_income'].isnull()) & (df['income_type'] == 'предприниматель'), 'total_income'] = medians_total_income[5]"
   ]
  },
  {
   "cell_type": "markdown",
   "id": "430a58e2-df84-48bc-a73a-4110d135aa50",
   "metadata": {},
   "source": [
    "### Исправление нулевых значений в возрасте клиентов\n",
    "\n",
    "- Посмотрим, какой тип занятости имеют клиенты с ошибочным возрастом"
   ]
  },
  {
   "cell_type": "code",
   "execution_count": 6,
   "id": "c39fccc1-c52b-48e7-82d0-660db5f85550",
   "metadata": {},
   "outputs": [
    {
     "data": {
      "text/plain": [
       "income_type\n",
       "сотрудник      55\n",
       "пенсионер      20\n",
       "компаньон      20\n",
       "госслужащий     6\n",
       "Name: count, dtype: int64"
      ]
     },
     "execution_count": 6,
     "metadata": {},
     "output_type": "execute_result"
    }
   ],
   "source": [
    "df.loc[df['dob_years'] == 0, 'income_type'].value_counts()"
   ]
  },
  {
   "cell_type": "markdown",
   "id": "0697e682-3004-4fc4-a5c7-483524867eda",
   "metadata": {},
   "source": [
    "- Всего их 101 человек, большая часть из которых являются сотрудниками организаций\n",
    "- Найдем медианные значения возрастов клиентов для каждого типа занятости"
   ]
  },
  {
   "cell_type": "code",
   "execution_count": 7,
   "id": "a2f2bbde-706e-4643-b0b2-52b62b0d5e26",
   "metadata": {},
   "outputs": [
    {
     "data": {
      "text/plain": [
       "income_type\n",
       "безработный        38.0\n",
       "в декрете          39.0\n",
       "госслужащий        40.0\n",
       "компаньон          39.0\n",
       "пенсионер          60.0\n",
       "предприниматель    42.5\n",
       "сотрудник          39.0\n",
       "студент            22.0\n",
       "Name: dob_years, dtype: float64"
      ]
     },
     "execution_count": 7,
     "metadata": {},
     "output_type": "execute_result"
    }
   ],
   "source": [
    "age_medians = df.groupby('income_type')['dob_years'].median()\n",
    "age_medians"
   ]
  },
  {
   "cell_type": "markdown",
   "id": "5e208301-9186-459e-b2f2-1ac44e09fd53",
   "metadata": {},
   "source": [
    "- Теперь заменим нулевые значения на медианы по каждому типу занятости"
   ]
  },
  {
   "cell_type": "code",
   "execution_count": 8,
   "id": "7d3cbcde-1bb3-4b60-80f7-3d35b706bf67",
   "metadata": {},
   "outputs": [],
   "source": [
    "df.loc[(df['dob_years'] == 0) & (df['income_type'] == 'сотрудник'), 'dob_years'] = age_medians[6]\n",
    "df.loc[(df['dob_years'] == 0) & (df['income_type'] == 'пенсионер'), 'dob_years'] = age_medians[4]\n",
    "df.loc[(df['dob_years'] == 0) & (df['income_type'] == 'компаньон'), 'dob_years'] = age_medians[3]\n",
    "df.loc[(df['dob_years'] == 0) & (df['income_type'] == 'госслужащий'), 'dob_years'] = age_medians[2]"
   ]
  },
  {
   "cell_type": "markdown",
   "id": "468f168f-24ef-4aa3-b52e-452bb4da956e",
   "metadata": {},
   "source": [
    "- Проверим, все ли нули мы исправили"
   ]
  },
  {
   "cell_type": "code",
   "execution_count": 9,
   "id": "47d188d5-07d2-4b4b-ae45-b9512b30f01a",
   "metadata": {},
   "outputs": [
    {
     "data": {
      "text/plain": [
       "Series([], Name: count, dtype: int64)"
      ]
     },
     "execution_count": 9,
     "metadata": {},
     "output_type": "execute_result"
    }
   ],
   "source": [
    "df.loc[df['dob_years'] == 0, 'dob_years'].value_counts()"
   ]
  },
  {
   "cell_type": "markdown",
   "id": "c5b9a84d-2e0d-4043-b4bf-684005207a9c",
   "metadata": {},
   "source": [
    "Обработка пропущенных значений трудового стажа\n",
    "\n",
    "- Проверим количество пропущенных данных в столбце"
   ]
  },
  {
   "cell_type": "code",
   "execution_count": 10,
   "id": "dd5f2179-5631-4953-9e7c-73ff8af4b8d3",
   "metadata": {},
   "outputs": [
    {
     "data": {
      "text/plain": [
       "children            0\n",
       "days_employed       0\n",
       "dob_years           0\n",
       "education           0\n",
       "education_id        0\n",
       "family_status       0\n",
       "family_status_id    0\n",
       "gender              0\n",
       "income_type         0\n",
       "debt                0\n",
       "total_income        0\n",
       "purpose             0\n",
       "dtype: int64"
      ]
     },
     "execution_count": 10,
     "metadata": {},
     "output_type": "execute_result"
    }
   ],
   "source": [
    "df.query('days_employed != days_employed & total_income != total_income').isna().sum()"
   ]
  },
  {
   "cell_type": "code",
   "execution_count": 11,
   "id": "3f756750-e3f5-4dfd-bc02-49c11815e796",
   "metadata": {},
   "outputs": [
    {
     "data": {
      "text/html": [
       "<div>\n",
       "<style scoped>\n",
       "    .dataframe tbody tr th:only-of-type {\n",
       "        vertical-align: middle;\n",
       "    }\n",
       "\n",
       "    .dataframe tbody tr th {\n",
       "        vertical-align: top;\n",
       "    }\n",
       "\n",
       "    .dataframe thead th {\n",
       "        text-align: right;\n",
       "    }\n",
       "</style>\n",
       "<table border=\"1\" class=\"dataframe\">\n",
       "  <thead>\n",
       "    <tr style=\"text-align: right;\">\n",
       "      <th></th>\n",
       "      <th>children</th>\n",
       "      <th>days_employed</th>\n",
       "      <th>dob_years</th>\n",
       "      <th>education</th>\n",
       "      <th>education_id</th>\n",
       "      <th>family_status</th>\n",
       "      <th>family_status_id</th>\n",
       "      <th>gender</th>\n",
       "      <th>income_type</th>\n",
       "      <th>debt</th>\n",
       "      <th>total_income</th>\n",
       "      <th>purpose</th>\n",
       "    </tr>\n",
       "  </thead>\n",
       "  <tbody>\n",
       "    <tr>\n",
       "      <th>0</th>\n",
       "      <td>1</td>\n",
       "      <td>-8437.673028</td>\n",
       "      <td>42</td>\n",
       "      <td>высшее</td>\n",
       "      <td>0</td>\n",
       "      <td>женат / замужем</td>\n",
       "      <td>0</td>\n",
       "      <td>F</td>\n",
       "      <td>сотрудник</td>\n",
       "      <td>0</td>\n",
       "      <td>253875.639453</td>\n",
       "      <td>покупка жилья</td>\n",
       "    </tr>\n",
       "    <tr>\n",
       "      <th>1</th>\n",
       "      <td>1</td>\n",
       "      <td>-4024.803754</td>\n",
       "      <td>36</td>\n",
       "      <td>среднее</td>\n",
       "      <td>1</td>\n",
       "      <td>женат / замужем</td>\n",
       "      <td>0</td>\n",
       "      <td>F</td>\n",
       "      <td>сотрудник</td>\n",
       "      <td>0</td>\n",
       "      <td>112080.014102</td>\n",
       "      <td>приобретение автомобиля</td>\n",
       "    </tr>\n",
       "    <tr>\n",
       "      <th>2</th>\n",
       "      <td>0</td>\n",
       "      <td>-5623.422610</td>\n",
       "      <td>33</td>\n",
       "      <td>Среднее</td>\n",
       "      <td>1</td>\n",
       "      <td>женат / замужем</td>\n",
       "      <td>0</td>\n",
       "      <td>M</td>\n",
       "      <td>сотрудник</td>\n",
       "      <td>0</td>\n",
       "      <td>145885.952297</td>\n",
       "      <td>покупка жилья</td>\n",
       "    </tr>\n",
       "    <tr>\n",
       "      <th>3</th>\n",
       "      <td>3</td>\n",
       "      <td>-4124.747207</td>\n",
       "      <td>32</td>\n",
       "      <td>среднее</td>\n",
       "      <td>1</td>\n",
       "      <td>женат / замужем</td>\n",
       "      <td>0</td>\n",
       "      <td>M</td>\n",
       "      <td>сотрудник</td>\n",
       "      <td>0</td>\n",
       "      <td>267628.550329</td>\n",
       "      <td>дополнительное образование</td>\n",
       "    </tr>\n",
       "    <tr>\n",
       "      <th>4</th>\n",
       "      <td>0</td>\n",
       "      <td>340266.072047</td>\n",
       "      <td>53</td>\n",
       "      <td>среднее</td>\n",
       "      <td>1</td>\n",
       "      <td>гражданский брак</td>\n",
       "      <td>1</td>\n",
       "      <td>F</td>\n",
       "      <td>пенсионер</td>\n",
       "      <td>0</td>\n",
       "      <td>158616.077870</td>\n",
       "      <td>сыграть свадьбу</td>\n",
       "    </tr>\n",
       "  </tbody>\n",
       "</table>\n",
       "</div>"
      ],
      "text/plain": [
       "   children  days_employed  dob_years education  education_id  \\\n",
       "0         1   -8437.673028         42    высшее             0   \n",
       "1         1   -4024.803754         36   среднее             1   \n",
       "2         0   -5623.422610         33   Среднее             1   \n",
       "3         3   -4124.747207         32   среднее             1   \n",
       "4         0  340266.072047         53   среднее             1   \n",
       "\n",
       "      family_status  family_status_id gender income_type  debt   total_income  \\\n",
       "0   женат / замужем                 0      F   сотрудник     0  253875.639453   \n",
       "1   женат / замужем                 0      F   сотрудник     0  112080.014102   \n",
       "2   женат / замужем                 0      M   сотрудник     0  145885.952297   \n",
       "3   женат / замужем                 0      M   сотрудник     0  267628.550329   \n",
       "4  гражданский брак                 1      F   пенсионер     0  158616.077870   \n",
       "\n",
       "                      purpose  \n",
       "0               покупка жилья  \n",
       "1     приобретение автомобиля  \n",
       "2               покупка жилья  \n",
       "3  дополнительное образование  \n",
       "4             сыграть свадьбу  "
      ]
     },
     "execution_count": 11,
     "metadata": {},
     "output_type": "execute_result"
    }
   ],
   "source": [
    "df.head()"
   ]
  },
  {
   "cell_type": "markdown",
   "id": "5b901665-6f88-4e29-9b48-b7683fed9895",
   "metadata": {},
   "source": [
    "- Избавимся от отрицательных значений в трудовом стаже"
   ]
  },
  {
   "cell_type": "code",
   "execution_count": 12,
   "id": "806990d6-adca-45a5-bc89-0eb1f1c204b9",
   "metadata": {},
   "outputs": [],
   "source": [
    "df['days_employed'] = df['days_employed'].abs()"
   ]
  },
  {
   "cell_type": "code",
   "execution_count": 13,
   "id": "c8817307-55aa-43fd-b8fa-6137ba8edf5c",
   "metadata": {},
   "outputs": [
    {
     "data": {
      "text/html": [
       "<div>\n",
       "<style scoped>\n",
       "    .dataframe tbody tr th:only-of-type {\n",
       "        vertical-align: middle;\n",
       "    }\n",
       "\n",
       "    .dataframe tbody tr th {\n",
       "        vertical-align: top;\n",
       "    }\n",
       "\n",
       "    .dataframe thead th {\n",
       "        text-align: right;\n",
       "    }\n",
       "</style>\n",
       "<table border=\"1\" class=\"dataframe\">\n",
       "  <thead>\n",
       "    <tr style=\"text-align: right;\">\n",
       "      <th></th>\n",
       "      <th>children</th>\n",
       "      <th>days_employed</th>\n",
       "      <th>dob_years</th>\n",
       "      <th>education</th>\n",
       "      <th>education_id</th>\n",
       "      <th>family_status</th>\n",
       "      <th>family_status_id</th>\n",
       "      <th>gender</th>\n",
       "      <th>income_type</th>\n",
       "      <th>debt</th>\n",
       "      <th>total_income</th>\n",
       "      <th>purpose</th>\n",
       "    </tr>\n",
       "  </thead>\n",
       "  <tbody>\n",
       "    <tr>\n",
       "      <th>0</th>\n",
       "      <td>1</td>\n",
       "      <td>8437.673028</td>\n",
       "      <td>42</td>\n",
       "      <td>высшее</td>\n",
       "      <td>0</td>\n",
       "      <td>женат / замужем</td>\n",
       "      <td>0</td>\n",
       "      <td>F</td>\n",
       "      <td>сотрудник</td>\n",
       "      <td>0</td>\n",
       "      <td>253875.639453</td>\n",
       "      <td>покупка жилья</td>\n",
       "    </tr>\n",
       "    <tr>\n",
       "      <th>1</th>\n",
       "      <td>1</td>\n",
       "      <td>4024.803754</td>\n",
       "      <td>36</td>\n",
       "      <td>среднее</td>\n",
       "      <td>1</td>\n",
       "      <td>женат / замужем</td>\n",
       "      <td>0</td>\n",
       "      <td>F</td>\n",
       "      <td>сотрудник</td>\n",
       "      <td>0</td>\n",
       "      <td>112080.014102</td>\n",
       "      <td>приобретение автомобиля</td>\n",
       "    </tr>\n",
       "    <tr>\n",
       "      <th>2</th>\n",
       "      <td>0</td>\n",
       "      <td>5623.422610</td>\n",
       "      <td>33</td>\n",
       "      <td>Среднее</td>\n",
       "      <td>1</td>\n",
       "      <td>женат / замужем</td>\n",
       "      <td>0</td>\n",
       "      <td>M</td>\n",
       "      <td>сотрудник</td>\n",
       "      <td>0</td>\n",
       "      <td>145885.952297</td>\n",
       "      <td>покупка жилья</td>\n",
       "    </tr>\n",
       "    <tr>\n",
       "      <th>3</th>\n",
       "      <td>3</td>\n",
       "      <td>4124.747207</td>\n",
       "      <td>32</td>\n",
       "      <td>среднее</td>\n",
       "      <td>1</td>\n",
       "      <td>женат / замужем</td>\n",
       "      <td>0</td>\n",
       "      <td>M</td>\n",
       "      <td>сотрудник</td>\n",
       "      <td>0</td>\n",
       "      <td>267628.550329</td>\n",
       "      <td>дополнительное образование</td>\n",
       "    </tr>\n",
       "    <tr>\n",
       "      <th>4</th>\n",
       "      <td>0</td>\n",
       "      <td>340266.072047</td>\n",
       "      <td>53</td>\n",
       "      <td>среднее</td>\n",
       "      <td>1</td>\n",
       "      <td>гражданский брак</td>\n",
       "      <td>1</td>\n",
       "      <td>F</td>\n",
       "      <td>пенсионер</td>\n",
       "      <td>0</td>\n",
       "      <td>158616.077870</td>\n",
       "      <td>сыграть свадьбу</td>\n",
       "    </tr>\n",
       "  </tbody>\n",
       "</table>\n",
       "</div>"
      ],
      "text/plain": [
       "   children  days_employed  dob_years education  education_id  \\\n",
       "0         1    8437.673028         42    высшее             0   \n",
       "1         1    4024.803754         36   среднее             1   \n",
       "2         0    5623.422610         33   Среднее             1   \n",
       "3         3    4124.747207         32   среднее             1   \n",
       "4         0  340266.072047         53   среднее             1   \n",
       "\n",
       "      family_status  family_status_id gender income_type  debt   total_income  \\\n",
       "0   женат / замужем                 0      F   сотрудник     0  253875.639453   \n",
       "1   женат / замужем                 0      F   сотрудник     0  112080.014102   \n",
       "2   женат / замужем                 0      M   сотрудник     0  145885.952297   \n",
       "3   женат / замужем                 0      M   сотрудник     0  267628.550329   \n",
       "4  гражданский брак                 1      F   пенсионер     0  158616.077870   \n",
       "\n",
       "                      purpose  \n",
       "0               покупка жилья  \n",
       "1     приобретение автомобиля  \n",
       "2               покупка жилья  \n",
       "3  дополнительное образование  \n",
       "4             сыграть свадьбу  "
      ]
     },
     "execution_count": 13,
     "metadata": {},
     "output_type": "execute_result"
    }
   ],
   "source": [
    "df.head()"
   ]
  },
  {
   "cell_type": "markdown",
   "id": "5beeb41e-1ac4-4f0c-8ea0-a3a1c7251c21",
   "metadata": {},
   "source": [
    "- Найдем медианное значение трудового стажа для каждой возрастной группы"
   ]
  },
  {
   "cell_type": "code",
   "execution_count": 14,
   "id": "8edabf27-4b02-4b0a-88ec-1c017d8e9dc0",
   "metadata": {},
   "outputs": [
    {
     "data": {
      "text/plain": [
       "25%    34.0\n",
       "50%    43.0\n",
       "75%    53.0\n",
       "Name: dob_years, dtype: float64"
      ]
     },
     "execution_count": 14,
     "metadata": {},
     "output_type": "execute_result"
    }
   ],
   "source": [
    "age_statistics = df['dob_years'].describe()\n",
    "age_statistics[4:7]"
   ]
  },
  {
   "cell_type": "markdown",
   "id": "e8e7d714-7712-4338-8efc-89fa80a9e4c8",
   "metadata": {},
   "source": [
    "- Напишем функцию, которая принимает на вход возраст клиента и возвращает возрастную категорию"
   ]
  },
  {
   "cell_type": "code",
   "execution_count": 15,
   "id": "3d3a2b96-bfe9-4bca-8407-f39cf7a2a3ab",
   "metadata": {},
   "outputs": [
    {
     "data": {
      "text/html": [
       "<div>\n",
       "<style scoped>\n",
       "    .dataframe tbody tr th:only-of-type {\n",
       "        vertical-align: middle;\n",
       "    }\n",
       "\n",
       "    .dataframe tbody tr th {\n",
       "        vertical-align: top;\n",
       "    }\n",
       "\n",
       "    .dataframe thead th {\n",
       "        text-align: right;\n",
       "    }\n",
       "</style>\n",
       "<table border=\"1\" class=\"dataframe\">\n",
       "  <thead>\n",
       "    <tr style=\"text-align: right;\">\n",
       "      <th></th>\n",
       "      <th>children</th>\n",
       "      <th>days_employed</th>\n",
       "      <th>dob_years</th>\n",
       "      <th>education</th>\n",
       "      <th>education_id</th>\n",
       "      <th>family_status</th>\n",
       "      <th>family_status_id</th>\n",
       "      <th>gender</th>\n",
       "      <th>income_type</th>\n",
       "      <th>debt</th>\n",
       "      <th>total_income</th>\n",
       "      <th>purpose</th>\n",
       "      <th>age_group</th>\n",
       "    </tr>\n",
       "  </thead>\n",
       "  <tbody>\n",
       "    <tr>\n",
       "      <th>21064</th>\n",
       "      <td>0</td>\n",
       "      <td>400655.639661</td>\n",
       "      <td>55</td>\n",
       "      <td>НАЧАЛЬНОЕ</td>\n",
       "      <td>3</td>\n",
       "      <td>женат / замужем</td>\n",
       "      <td>0</td>\n",
       "      <td>F</td>\n",
       "      <td>пенсионер</td>\n",
       "      <td>0</td>\n",
       "      <td>58574.645855</td>\n",
       "      <td>на покупку подержанного автомобиля</td>\n",
       "      <td>53+</td>\n",
       "    </tr>\n",
       "    <tr>\n",
       "      <th>1385</th>\n",
       "      <td>2</td>\n",
       "      <td>1583.917264</td>\n",
       "      <td>42</td>\n",
       "      <td>высшее</td>\n",
       "      <td>0</td>\n",
       "      <td>Не женат / не замужем</td>\n",
       "      <td>4</td>\n",
       "      <td>F</td>\n",
       "      <td>сотрудник</td>\n",
       "      <td>0</td>\n",
       "      <td>131237.854036</td>\n",
       "      <td>операции с жильем</td>\n",
       "      <td>34-43</td>\n",
       "    </tr>\n",
       "    <tr>\n",
       "      <th>17425</th>\n",
       "      <td>0</td>\n",
       "      <td>396783.883705</td>\n",
       "      <td>65</td>\n",
       "      <td>среднее</td>\n",
       "      <td>1</td>\n",
       "      <td>женат / замужем</td>\n",
       "      <td>0</td>\n",
       "      <td>F</td>\n",
       "      <td>пенсионер</td>\n",
       "      <td>0</td>\n",
       "      <td>120571.640970</td>\n",
       "      <td>сделка с подержанным автомобилем</td>\n",
       "      <td>53+</td>\n",
       "    </tr>\n",
       "    <tr>\n",
       "      <th>4184</th>\n",
       "      <td>0</td>\n",
       "      <td>376617.584253</td>\n",
       "      <td>57</td>\n",
       "      <td>среднее</td>\n",
       "      <td>1</td>\n",
       "      <td>женат / замужем</td>\n",
       "      <td>0</td>\n",
       "      <td>F</td>\n",
       "      <td>пенсионер</td>\n",
       "      <td>0</td>\n",
       "      <td>165644.100462</td>\n",
       "      <td>дополнительное образование</td>\n",
       "      <td>53+</td>\n",
       "    </tr>\n",
       "    <tr>\n",
       "      <th>17017</th>\n",
       "      <td>3</td>\n",
       "      <td>1550.274427</td>\n",
       "      <td>35</td>\n",
       "      <td>среднее</td>\n",
       "      <td>1</td>\n",
       "      <td>женат / замужем</td>\n",
       "      <td>0</td>\n",
       "      <td>F</td>\n",
       "      <td>сотрудник</td>\n",
       "      <td>0</td>\n",
       "      <td>94831.758709</td>\n",
       "      <td>недвижимость</td>\n",
       "      <td>34-43</td>\n",
       "    </tr>\n",
       "  </tbody>\n",
       "</table>\n",
       "</div>"
      ],
      "text/plain": [
       "       children  days_employed  dob_years  education  education_id  \\\n",
       "21064         0  400655.639661         55  НАЧАЛЬНОЕ             3   \n",
       "1385          2    1583.917264         42     высшее             0   \n",
       "17425         0  396783.883705         65    среднее             1   \n",
       "4184          0  376617.584253         57    среднее             1   \n",
       "17017         3    1550.274427         35    среднее             1   \n",
       "\n",
       "               family_status  family_status_id gender income_type  debt  \\\n",
       "21064        женат / замужем                 0      F   пенсионер     0   \n",
       "1385   Не женат / не замужем                 4      F   сотрудник     0   \n",
       "17425        женат / замужем                 0      F   пенсионер     0   \n",
       "4184         женат / замужем                 0      F   пенсионер     0   \n",
       "17017        женат / замужем                 0      F   сотрудник     0   \n",
       "\n",
       "        total_income                             purpose age_group  \n",
       "21064   58574.645855  на покупку подержанного автомобиля       53+  \n",
       "1385   131237.854036                   операции с жильем     34-43  \n",
       "17425  120571.640970    сделка с подержанным автомобилем       53+  \n",
       "4184   165644.100462          дополнительное образование       53+  \n",
       "17017   94831.758709                        недвижимость     34-43  "
      ]
     },
     "execution_count": 15,
     "metadata": {},
     "output_type": "execute_result"
    }
   ],
   "source": [
    "def age_group(age):\n",
    "    if age <= age_statistics[4]: return 'до 34'\n",
    "    elif age_statistics[4] < age <= age_statistics[5]: return '34-43'\n",
    "    elif age_statistics[5] < age <= age_statistics[6]: return '43-53'\n",
    "    else: return '53+'\n",
    "    \n",
    "df['age_group'] = df['dob_years'].apply(age_group)\n",
    "df.sample(5)"
   ]
  },
  {
   "cell_type": "markdown",
   "id": "e4af0322-7ccf-4f23-9c15-c794d662925c",
   "metadata": {},
   "source": [
    "- Найдем медианное значение трудового стажа для каждой возрастной группы"
   ]
  },
  {
   "cell_type": "code",
   "execution_count": 16,
   "id": "f5316a40-e784-497f-95e9-c5a1df97dd9a",
   "metadata": {},
   "outputs": [
    {
     "data": {
      "text/plain": [
       "age_group\n",
       "34-43      1838.0\n",
       "43-53      2510.0\n",
       "53+      343034.0\n",
       "до 34      1179.0\n",
       "Name: days_employed, dtype: float64"
      ]
     },
     "execution_count": 16,
     "metadata": {},
     "output_type": "execute_result"
    }
   ],
   "source": [
    "medians_of_days_employed = df.groupby('age_group')['days_employed'].median()\n",
    "round(medians_of_days_employed, 0)"
   ]
  },
  {
   "cell_type": "markdown",
   "id": "fc460947-3075-485e-9317-6a6cbd14c1b7",
   "metadata": {},
   "source": [
    "- Заменим пропущенные значения трудового стажа на медиану из возрастных категорий"
   ]
  },
  {
   "cell_type": "code",
   "execution_count": 17,
   "id": "a60baa44-3517-4f5c-aa7d-a9b70d275a9b",
   "metadata": {},
   "outputs": [],
   "source": [
    "df.loc[(df['days_employed'].isnull()) & (df['age_group'] == '34-43'), 'days_employed'] = medians_of_days_employed[0]\n",
    "df.loc[(df['days_employed'].isnull()) & (df['age_group'] == '43-53'), 'days_employed'] = medians_of_days_employed[1]\n",
    "df.loc[(df['days_employed'].isnull()) & (df['age_group'] == '53+'), 'days_employed'] = medians_of_days_employed[2]\n",
    "df.loc[(df['days_employed'].isnull()) & (df['age_group'] == 'до 34'), 'days_employed'] = medians_of_days_employed[3]"
   ]
  },
  {
   "cell_type": "code",
   "execution_count": 18,
   "id": "8859294d-d501-4a39-b463-67b9e273d7fa",
   "metadata": {},
   "outputs": [
    {
     "name": "stdout",
     "output_type": "stream",
     "text": [
      "<class 'pandas.core.frame.DataFrame'>\n",
      "RangeIndex: 21525 entries, 0 to 21524\n",
      "Data columns (total 13 columns):\n",
      " #   Column            Non-Null Count  Dtype  \n",
      "---  ------            --------------  -----  \n",
      " 0   children          21525 non-null  int64  \n",
      " 1   days_employed     21525 non-null  float64\n",
      " 2   dob_years         21525 non-null  int64  \n",
      " 3   education         21525 non-null  object \n",
      " 4   education_id      21525 non-null  int64  \n",
      " 5   family_status     21525 non-null  object \n",
      " 6   family_status_id  21525 non-null  int64  \n",
      " 7   gender            21525 non-null  object \n",
      " 8   income_type       21525 non-null  object \n",
      " 9   debt              21525 non-null  int64  \n",
      " 10  total_income      21525 non-null  float64\n",
      " 11  purpose           21525 non-null  object \n",
      " 12  age_group         21525 non-null  object \n",
      "dtypes: float64(2), int64(5), object(6)\n",
      "memory usage: 2.1+ MB\n"
     ]
    }
   ],
   "source": [
    "df.info()"
   ]
  },
  {
   "cell_type": "markdown",
   "id": "faee0483-c1bf-4475-a752-a6099548ebfa",
   "metadata": {},
   "source": [
    "- Проверим на уникальные значения столбец 'children'"
   ]
  },
  {
   "cell_type": "code",
   "execution_count": 19,
   "id": "04026a7b-779b-418e-809e-33f4cd1af1ad",
   "metadata": {},
   "outputs": [
    {
     "data": {
      "text/plain": [
       "array([ 1,  0,  3,  2, -1,  4, 20,  5])"
      ]
     },
     "execution_count": 19,
     "metadata": {},
     "output_type": "execute_result"
    }
   ],
   "source": [
    "df['children'].unique()"
   ]
  },
  {
   "cell_type": "markdown",
   "id": "ea637cb1-d577-4000-a413-f49332e91217",
   "metadata": {},
   "source": [
    "- В столбце 'children' есть значения -1 и 20, явно ошибочные\n",
    "- Заменим ошибочные значения в количестве детей из следующего предположения:\n",
    "- вместо 20 детей укажем 2-х, вместо -1 укажем 1."
   ]
  },
  {
   "cell_type": "code",
   "execution_count": 20,
   "id": "c62fec9f-3513-4594-8d8c-039a73b72b44",
   "metadata": {},
   "outputs": [],
   "source": [
    "df.loc[df['children'] == 20, 'children'] = 2\n",
    "df.loc[df['children'] == -1, 'children'] = 1"
   ]
  },
  {
   "cell_type": "markdown",
   "id": "c64964f6-e12f-477f-812c-2f2cb0fcf7c5",
   "metadata": {},
   "source": [
    "- Проверим значения в столбце пол клиента. В целом данный столбец не влияет на аналитику, и наши выводы. Но для красоты исправим ошибки и тут"
   ]
  },
  {
   "cell_type": "code",
   "execution_count": 21,
   "id": "ec62d4f1-2850-4e3c-bab4-8e68795e2b67",
   "metadata": {},
   "outputs": [
    {
     "data": {
      "text/plain": [
       "array(['F', 'M', 'XNA'], dtype=object)"
      ]
     },
     "execution_count": 21,
     "metadata": {},
     "output_type": "execute_result"
    }
   ],
   "source": [
    "df['gender'].unique()"
   ]
  },
  {
   "cell_type": "markdown",
   "id": "2f52baed-228d-4792-a5b1-7319f33fbe10",
   "metadata": {},
   "source": [
    "- Строка с пропущенным значением всего одна. Ее можно исключить из выборки. Так как нет дополнительных данных по которым мы бы смогли идентифицировать пол клиента (например по ФИО)."
   ]
  },
  {
   "cell_type": "code",
   "execution_count": 22,
   "id": "9d20fc43-e658-41aa-a10b-641745ae21b0",
   "metadata": {},
   "outputs": [],
   "source": [
    "df = df[df['gender'] != 'XNA']"
   ]
  },
  {
   "cell_type": "markdown",
   "id": "f8a469c7-d76d-4c43-983f-0469df7c6c97",
   "metadata": {},
   "source": [
    "**Вывод**\n",
    "\n",
    "Все строки заполнены, обработаны пропущенные значения по ежемесячному доходу на основе медиан для каждого типа занятости. Обработаны пропущенные значения в данных по трудовому стажу на основе медиан для каждой возрастной категории. Исправлены значения нулевого возраста на медианы соответствующего типа занятости Исправлены значения "
   ]
  },
  {
   "cell_type": "markdown",
   "id": "63ad6be0-7738-4271-a53d-3ff58df79b12",
   "metadata": {},
   "source": [
    "### Замена типа данных"
   ]
  },
  {
   "cell_type": "code",
   "execution_count": 23,
   "id": "8970197e-7009-459d-9b83-d0113be0cf45",
   "metadata": {},
   "outputs": [
    {
     "name": "stdout",
     "output_type": "stream",
     "text": [
      "<class 'pandas.core.frame.DataFrame'>\n",
      "Index: 21524 entries, 0 to 21524\n",
      "Data columns (total 13 columns):\n",
      " #   Column            Non-Null Count  Dtype  \n",
      "---  ------            --------------  -----  \n",
      " 0   children          21524 non-null  int64  \n",
      " 1   days_employed     21524 non-null  float64\n",
      " 2   dob_years         21524 non-null  int64  \n",
      " 3   education         21524 non-null  object \n",
      " 4   education_id      21524 non-null  int64  \n",
      " 5   family_status     21524 non-null  object \n",
      " 6   family_status_id  21524 non-null  int64  \n",
      " 7   gender            21524 non-null  object \n",
      " 8   income_type       21524 non-null  object \n",
      " 9   debt              21524 non-null  int64  \n",
      " 10  total_income      21524 non-null  float64\n",
      " 11  purpose           21524 non-null  object \n",
      " 12  age_group         21524 non-null  object \n",
      "dtypes: float64(2), int64(5), object(6)\n",
      "memory usage: 2.3+ MB\n"
     ]
    }
   ],
   "source": [
    "df.info()"
   ]
  },
  {
   "cell_type": "markdown",
   "id": "b28cc9fc-38e4-4b1c-814b-2fb762a03e5e",
   "metadata": {},
   "source": [
    "В столбцах присутствует тип float. Это дробный тип чисел. При работе с такими данными как зарплата и трудовой стаж будет лучше и удобнее если они будут представлены в виде целого числа, в данном случае в формате int. "
   ]
  },
  {
   "cell_type": "code",
   "execution_count": 24,
   "id": "42862542-d89b-4723-bad5-1ea465a49eff",
   "metadata": {},
   "outputs": [
    {
     "name": "stdout",
     "output_type": "stream",
     "text": [
      "<class 'pandas.core.frame.DataFrame'>\n",
      "Index: 21524 entries, 0 to 21524\n",
      "Data columns (total 13 columns):\n",
      " #   Column            Non-Null Count  Dtype \n",
      "---  ------            --------------  ----- \n",
      " 0   children          21524 non-null  int64 \n",
      " 1   days_employed     21524 non-null  int64 \n",
      " 2   dob_years         21524 non-null  int64 \n",
      " 3   education         21524 non-null  object\n",
      " 4   education_id      21524 non-null  int64 \n",
      " 5   family_status     21524 non-null  object\n",
      " 6   family_status_id  21524 non-null  int64 \n",
      " 7   gender            21524 non-null  object\n",
      " 8   income_type       21524 non-null  object\n",
      " 9   debt              21524 non-null  int64 \n",
      " 10  total_income      21524 non-null  int64 \n",
      " 11  purpose           21524 non-null  object\n",
      " 12  age_group         21524 non-null  object\n",
      "dtypes: int64(7), object(6)\n",
      "memory usage: 2.3+ MB\n"
     ]
    }
   ],
   "source": [
    "df['total_income'] = df['total_income'].astype(int)\n",
    "df['days_employed'] = df['days_employed'].astype(int)\n",
    "df.info()"
   ]
  },
  {
   "cell_type": "markdown",
   "id": "dfbe5c68-d5ad-4a50-8b70-e6a63dde2860",
   "metadata": {},
   "source": [
    "### Обработка дубликатов"
   ]
  },
  {
   "cell_type": "markdown",
   "id": "f2844a43-baec-45c2-9239-7aa539931181",
   "metadata": {},
   "source": [
    "- Перед поиском дубликатов приведем все данные по образованию клиентов к нижнему регистру. В противном случае, при поиске дубликатов значения \"Среднее\" и \"среднее\" будут определены, как 2 разных значения, что неверно.\n",
    "- Посчитаем всех клиентов по уровням образования."
   ]
  },
  {
   "cell_type": "code",
   "execution_count": 25,
   "id": "f8f7b683-2ac4-4c24-bd0c-2c756021ff9b",
   "metadata": {},
   "outputs": [
    {
     "data": {
      "text/plain": [
       "education\n",
       "среднее                13750\n",
       "высшее                  4718\n",
       "СРЕДНЕЕ                  772\n",
       "Среднее                  711\n",
       "неоконченное высшее      667\n",
       "ВЫСШЕЕ                   274\n",
       "Высшее                   268\n",
       "начальное                250\n",
       "Неоконченное высшее       47\n",
       "НЕОКОНЧЕННОЕ ВЫСШЕЕ       29\n",
       "НАЧАЛЬНОЕ                 17\n",
       "Начальное                 15\n",
       "ученая степень             4\n",
       "Ученая степень             1\n",
       "УЧЕНАЯ СТЕПЕНЬ             1\n",
       "Name: count, dtype: int64"
      ]
     },
     "execution_count": 25,
     "metadata": {},
     "output_type": "execute_result"
    }
   ],
   "source": [
    "df['education'].value_counts()"
   ]
  },
  {
   "cell_type": "markdown",
   "id": "ac1fba64-6fe5-4669-b09c-78bd83fbc2c0",
   "metadata": {},
   "source": [
    "- Cделаем все буквы в значениях образования строчными"
   ]
  },
  {
   "cell_type": "code",
   "execution_count": 26,
   "id": "9cb71237-0df9-4e15-9c0c-c7c15c8edc53",
   "metadata": {},
   "outputs": [],
   "source": [
    "df['education'] = df['education'].str.lower()"
   ]
  },
  {
   "cell_type": "markdown",
   "id": "e1ec8ba7-3fdc-4d58-bb34-888c550f6444",
   "metadata": {},
   "source": [
    "- Посмотрим, что получилось, одновременно посчитая количество клиентов по каждому уровню образования"
   ]
  },
  {
   "cell_type": "code",
   "execution_count": 27,
   "id": "0d2fd970-4c7e-40eb-9cbf-f61ae07bbf1e",
   "metadata": {},
   "outputs": [
    {
     "data": {
      "text/plain": [
       "education\n",
       "среднее                15233\n",
       "высшее                  5260\n",
       "неоконченное высшее      743\n",
       "начальное                282\n",
       "ученая степень             6\n",
       "Name: count, dtype: int64"
      ]
     },
     "execution_count": 27,
     "metadata": {},
     "output_type": "execute_result"
    }
   ],
   "source": [
    "df['education'].value_counts()"
   ]
  },
  {
   "cell_type": "markdown",
   "id": "70c926b0-7c97-4ff9-81e9-2de061bb590e",
   "metadata": {},
   "source": [
    "- Посчитаем количество дубликатов в массиве"
   ]
  },
  {
   "cell_type": "code",
   "execution_count": 28,
   "id": "0bb3f08d-0962-4302-810d-4245b047429f",
   "metadata": {},
   "outputs": [
    {
     "name": "stdout",
     "output_type": "stream",
     "text": [
      "Число дубликатов в массиве данных: 71\n",
      "Число полностью идентичных строк: 137\n",
      "Доля дубликатов из общей длины массива: 0.33%\n"
     ]
    }
   ],
   "source": [
    "print('Число дубликатов в массиве данных:', df.duplicated().sum())\n",
    "print('Число полностью идентичных строк:', df.duplicated(keep = False).sum())\n",
    "print('Доля дубликатов из общей длины массива: {:.2%}'.format(df.duplicated().sum() / len(df)))"
   ]
  },
  {
   "cell_type": "markdown",
   "id": "70ad1bf9-66e3-4285-9373-1514aa9c224b",
   "metadata": {},
   "source": [
    "- Для наглядности выведем первые 5 строк полностью \"одинаковых\" клиентов"
   ]
  },
  {
   "cell_type": "code",
   "execution_count": 29,
   "id": "e95e319c-e657-4f98-be9d-229efe6667fd",
   "metadata": {},
   "outputs": [
    {
     "data": {
      "text/html": [
       "<div>\n",
       "<style scoped>\n",
       "    .dataframe tbody tr th:only-of-type {\n",
       "        vertical-align: middle;\n",
       "    }\n",
       "\n",
       "    .dataframe tbody tr th {\n",
       "        vertical-align: top;\n",
       "    }\n",
       "\n",
       "    .dataframe thead th {\n",
       "        text-align: right;\n",
       "    }\n",
       "</style>\n",
       "<table border=\"1\" class=\"dataframe\">\n",
       "  <thead>\n",
       "    <tr style=\"text-align: right;\">\n",
       "      <th></th>\n",
       "      <th>children</th>\n",
       "      <th>days_employed</th>\n",
       "      <th>dob_years</th>\n",
       "      <th>education</th>\n",
       "      <th>education_id</th>\n",
       "      <th>family_status</th>\n",
       "      <th>family_status_id</th>\n",
       "      <th>gender</th>\n",
       "      <th>income_type</th>\n",
       "      <th>debt</th>\n",
       "      <th>total_income</th>\n",
       "      <th>purpose</th>\n",
       "      <th>age_group</th>\n",
       "    </tr>\n",
       "  </thead>\n",
       "  <tbody>\n",
       "    <tr>\n",
       "      <th>7938</th>\n",
       "      <td>0</td>\n",
       "      <td>343033</td>\n",
       "      <td>71</td>\n",
       "      <td>среднее</td>\n",
       "      <td>1</td>\n",
       "      <td>гражданский брак</td>\n",
       "      <td>1</td>\n",
       "      <td>F</td>\n",
       "      <td>пенсионер</td>\n",
       "      <td>0</td>\n",
       "      <td>118514</td>\n",
       "      <td>на проведение свадьбы</td>\n",
       "      <td>53+</td>\n",
       "    </tr>\n",
       "    <tr>\n",
       "      <th>6537</th>\n",
       "      <td>0</td>\n",
       "      <td>343033</td>\n",
       "      <td>71</td>\n",
       "      <td>среднее</td>\n",
       "      <td>1</td>\n",
       "      <td>гражданский брак</td>\n",
       "      <td>1</td>\n",
       "      <td>F</td>\n",
       "      <td>пенсионер</td>\n",
       "      <td>0</td>\n",
       "      <td>118514</td>\n",
       "      <td>на проведение свадьбы</td>\n",
       "      <td>53+</td>\n",
       "    </tr>\n",
       "    <tr>\n",
       "      <th>9604</th>\n",
       "      <td>0</td>\n",
       "      <td>343033</td>\n",
       "      <td>71</td>\n",
       "      <td>среднее</td>\n",
       "      <td>1</td>\n",
       "      <td>гражданский брак</td>\n",
       "      <td>1</td>\n",
       "      <td>F</td>\n",
       "      <td>пенсионер</td>\n",
       "      <td>0</td>\n",
       "      <td>118514</td>\n",
       "      <td>на проведение свадьбы</td>\n",
       "      <td>53+</td>\n",
       "    </tr>\n",
       "    <tr>\n",
       "      <th>5865</th>\n",
       "      <td>0</td>\n",
       "      <td>343033</td>\n",
       "      <td>66</td>\n",
       "      <td>среднее</td>\n",
       "      <td>1</td>\n",
       "      <td>вдовец / вдова</td>\n",
       "      <td>2</td>\n",
       "      <td>F</td>\n",
       "      <td>пенсионер</td>\n",
       "      <td>0</td>\n",
       "      <td>118514</td>\n",
       "      <td>операции со своей недвижимостью</td>\n",
       "      <td>53+</td>\n",
       "    </tr>\n",
       "    <tr>\n",
       "      <th>9528</th>\n",
       "      <td>0</td>\n",
       "      <td>343033</td>\n",
       "      <td>66</td>\n",
       "      <td>среднее</td>\n",
       "      <td>1</td>\n",
       "      <td>вдовец / вдова</td>\n",
       "      <td>2</td>\n",
       "      <td>F</td>\n",
       "      <td>пенсионер</td>\n",
       "      <td>0</td>\n",
       "      <td>118514</td>\n",
       "      <td>операции со своей недвижимостью</td>\n",
       "      <td>53+</td>\n",
       "    </tr>\n",
       "  </tbody>\n",
       "</table>\n",
       "</div>"
      ],
      "text/plain": [
       "      children  days_employed  dob_years education  education_id  \\\n",
       "7938         0         343033         71   среднее             1   \n",
       "6537         0         343033         71   среднее             1   \n",
       "9604         0         343033         71   среднее             1   \n",
       "5865         0         343033         66   среднее             1   \n",
       "9528         0         343033         66   среднее             1   \n",
       "\n",
       "         family_status  family_status_id gender income_type  debt  \\\n",
       "7938  гражданский брак                 1      F   пенсионер     0   \n",
       "6537  гражданский брак                 1      F   пенсионер     0   \n",
       "9604  гражданский брак                 1      F   пенсионер     0   \n",
       "5865    вдовец / вдова                 2      F   пенсионер     0   \n",
       "9528    вдовец / вдова                 2      F   пенсионер     0   \n",
       "\n",
       "      total_income                          purpose age_group  \n",
       "7938        118514            на проведение свадьбы       53+  \n",
       "6537        118514            на проведение свадьбы       53+  \n",
       "9604        118514            на проведение свадьбы       53+  \n",
       "5865        118514  операции со своей недвижимостью       53+  \n",
       "9528        118514  операции со своей недвижимостью       53+  "
      ]
     },
     "execution_count": 29,
     "metadata": {},
     "output_type": "execute_result"
    }
   ],
   "source": [
    "df[df.duplicated(keep = False)].sort_values('dob_years', ascending = False).head()"
   ]
  },
  {
   "cell_type": "markdown",
   "id": "f5144342-ad94-420b-b9b0-88015489a3e0",
   "metadata": {},
   "source": [
    "- Удалим одинаковые строки"
   ]
  },
  {
   "cell_type": "code",
   "execution_count": 30,
   "id": "3645f335-f875-4c7e-9929-124091f9f1c3",
   "metadata": {},
   "outputs": [],
   "source": [
    "df = df.drop_duplicates().reset_index(drop = True)"
   ]
  },
  {
   "cell_type": "markdown",
   "id": "c93021d9-af96-474b-8d92-5f645c7d4abd",
   "metadata": {},
   "source": [
    "- Проверим число дубликатов"
   ]
  },
  {
   "cell_type": "code",
   "execution_count": 31,
   "id": "bb9bfecb-353b-4129-9411-01f82aff1c98",
   "metadata": {},
   "outputs": [
    {
     "name": "stdout",
     "output_type": "stream",
     "text": [
      "Число дубликатов в массиве данных: 0\n"
     ]
    }
   ],
   "source": [
    "print('Число дубликатов в массиве данных:', df.duplicated().sum())"
   ]
  },
  {
   "cell_type": "markdown",
   "id": "983202de-7d44-4bd0-83f6-81a976ea69da",
   "metadata": {},
   "source": [
    "**Вывод**\n",
    "\n",
    "- При обработке данных были найдены дубликаты (71 штука), это 0,33% от всего числа клиентов в датасете\n",
    "- Необходимо выяснить, связано ли появление дубликатов с технической ошибкой, или же ошибка носит человеческий фактор\n",
    "- При удалении дубликатов использовался метод drop_duplicates(), так как его целью является поиск идентичных строк\n",
    "- Необходимо обратить внимание на метод заполнения ячеек с уровнем образования клиентов\n",
    "- На данный момент ячейки заполняются вручную, что приводит к значениям вроде \"среднее\", \"Среднее\" или \"СРЕДНЕЕ\"\n",
    "- На примере среднего образования: всего были неправильно заполнены данные по 1483 клиентам (9,74% от общего числа клиентов со средним образованием)\n",
    "- Необходимо ввести условие на нижний регистр и выпадающий список всех возможных вариантов уровня образования"
   ]
  },
  {
   "cell_type": "markdown",
   "id": "d627e471-3530-4060-87b9-b0844ad969de",
   "metadata": {},
   "source": [
    "### Лемматизация"
   ]
  },
  {
   "cell_type": "markdown",
   "id": "987b292f-0616-4e5b-9c38-21a89726e80d",
   "metadata": {},
   "source": [
    "- Посчитаем все варианты целей кредита"
   ]
  },
  {
   "cell_type": "code",
   "execution_count": 32,
   "id": "9981881a-0c3f-4d92-ab46-ed957b3643d7",
   "metadata": {},
   "outputs": [
    {
     "data": {
      "text/plain": [
       "purpose\n",
       "свадьба                                   791\n",
       "на проведение свадьбы                     768\n",
       "сыграть свадьбу                           765\n",
       "операции с недвижимостью                  675\n",
       "покупка коммерческой недвижимости         661\n",
       "операции с жильем                         652\n",
       "покупка жилья для сдачи                   651\n",
       "операции с коммерческой недвижимостью     650\n",
       "жилье                                     646\n",
       "покупка жилья                             646\n",
       "покупка жилья для семьи                   638\n",
       "строительство собственной недвижимости    635\n",
       "недвижимость                              633\n",
       "операции со своей недвижимостью           627\n",
       "строительство жилой недвижимости          624\n",
       "покупка своего жилья                      620\n",
       "покупка недвижимости                      620\n",
       "строительство недвижимости                619\n",
       "ремонт жилью                              607\n",
       "покупка жилой недвижимости                606\n",
       "на покупку своего автомобиля              505\n",
       "заняться высшим образованием              496\n",
       "автомобиль                                494\n",
       "сделка с подержанным автомобилем          486\n",
       "на покупку подержанного автомобиля        478\n",
       "свой автомобиль                           478\n",
       "автомобили                                478\n",
       "на покупку автомобиля                     471\n",
       "приобретение автомобиля                   461\n",
       "дополнительное образование                460\n",
       "сделка с автомобилем                      455\n",
       "высшее образование                        452\n",
       "образование                               447\n",
       "получение дополнительного образования     446\n",
       "получение образования                     442\n",
       "профильное образование                    436\n",
       "получение высшего образования             426\n",
       "заняться образованием                     408\n",
       "Name: count, dtype: int64"
      ]
     },
     "execution_count": 32,
     "metadata": {},
     "output_type": "execute_result"
    }
   ],
   "source": [
    "df['purpose'].value_counts()"
   ]
  },
  {
   "cell_type": "markdown",
   "id": "ea0965cd-03ef-4530-944e-fb3a4f9659a8",
   "metadata": {},
   "source": [
    "- Среди всех возможных целей получения кредита можно выделить всего 5 ключевых слов, которые отражают главную цель.\n",
    "- Основные ключевые слова можно выделить вручную."
   ]
  },
  {
   "cell_type": "code",
   "execution_count": 33,
   "id": "cff33a53-de8e-4c02-87c6-7ccc250665fc",
   "metadata": {},
   "outputs": [],
   "source": [
    "categories = [\"сдача\", \"коммерческий\", \"жилье\", \"образование\", \"свадьба\", \"недвижимость\", \"автомобиль\"]"
   ]
  },
  {
   "cell_type": "markdown",
   "id": "3d655b3b-7906-4037-ac4f-b75e7392c7d7",
   "metadata": {},
   "source": [
    "- Проведем лемматизацию одновременно заменив полученный список лемм в каждой строке на главное ключевое слово из списка категорий."
   ]
  },
  {
   "cell_type": "code",
   "execution_count": 34,
   "id": "45ff7f40-49f4-40b1-bc01-a09540f4d38a",
   "metadata": {},
   "outputs": [
    {
     "data": {
      "text/html": [
       "<div>\n",
       "<style scoped>\n",
       "    .dataframe tbody tr th:only-of-type {\n",
       "        vertical-align: middle;\n",
       "    }\n",
       "\n",
       "    .dataframe tbody tr th {\n",
       "        vertical-align: top;\n",
       "    }\n",
       "\n",
       "    .dataframe thead th {\n",
       "        text-align: right;\n",
       "    }\n",
       "</style>\n",
       "<table border=\"1\" class=\"dataframe\">\n",
       "  <thead>\n",
       "    <tr style=\"text-align: right;\">\n",
       "      <th></th>\n",
       "      <th>children</th>\n",
       "      <th>days_employed</th>\n",
       "      <th>dob_years</th>\n",
       "      <th>education</th>\n",
       "      <th>education_id</th>\n",
       "      <th>family_status</th>\n",
       "      <th>family_status_id</th>\n",
       "      <th>gender</th>\n",
       "      <th>income_type</th>\n",
       "      <th>debt</th>\n",
       "      <th>total_income</th>\n",
       "      <th>purpose</th>\n",
       "      <th>age_group</th>\n",
       "      <th>purpose_group</th>\n",
       "    </tr>\n",
       "  </thead>\n",
       "  <tbody>\n",
       "    <tr>\n",
       "      <th>0</th>\n",
       "      <td>1</td>\n",
       "      <td>8437</td>\n",
       "      <td>42</td>\n",
       "      <td>высшее</td>\n",
       "      <td>0</td>\n",
       "      <td>женат / замужем</td>\n",
       "      <td>0</td>\n",
       "      <td>F</td>\n",
       "      <td>сотрудник</td>\n",
       "      <td>0</td>\n",
       "      <td>253875</td>\n",
       "      <td>покупка жилья</td>\n",
       "      <td>34-43</td>\n",
       "      <td>жилье</td>\n",
       "    </tr>\n",
       "    <tr>\n",
       "      <th>1</th>\n",
       "      <td>1</td>\n",
       "      <td>4024</td>\n",
       "      <td>36</td>\n",
       "      <td>среднее</td>\n",
       "      <td>1</td>\n",
       "      <td>женат / замужем</td>\n",
       "      <td>0</td>\n",
       "      <td>F</td>\n",
       "      <td>сотрудник</td>\n",
       "      <td>0</td>\n",
       "      <td>112080</td>\n",
       "      <td>приобретение автомобиля</td>\n",
       "      <td>34-43</td>\n",
       "      <td>автомобиль</td>\n",
       "    </tr>\n",
       "  </tbody>\n",
       "</table>\n",
       "</div>"
      ],
      "text/plain": [
       "   children  days_employed  dob_years education  education_id  \\\n",
       "0         1           8437         42    высшее             0   \n",
       "1         1           4024         36   среднее             1   \n",
       "\n",
       "     family_status  family_status_id gender income_type  debt  total_income  \\\n",
       "0  женат / замужем                 0      F   сотрудник     0        253875   \n",
       "1  женат / замужем                 0      F   сотрудник     0        112080   \n",
       "\n",
       "                   purpose age_group purpose_group  \n",
       "0            покупка жилья     34-43         жилье  \n",
       "1  приобретение автомобиля     34-43    автомобиль  "
      ]
     },
     "execution_count": 34,
     "metadata": {},
     "output_type": "execute_result"
    }
   ],
   "source": [
    "def lemmatize(text):\n",
    "    lemma = m.lemmatize(text)\n",
    "    for word in categories:\n",
    "        if word in lemma:\n",
    "            lemma = word\n",
    "    return lemma\n",
    "\n",
    "df['purpose_group'] = df['purpose'].apply(lemmatize)        \n",
    "df.head(2)"
   ]
  },
  {
   "cell_type": "markdown",
   "id": "d2d557c9-5b7a-4c97-8d4c-bddd7a60ea0c",
   "metadata": {},
   "source": [
    "- Посчитаем все возможные категории целей кредита."
   ]
  },
  {
   "cell_type": "code",
   "execution_count": 35,
   "id": "4ff3b78e-c492-41a8-9050-a4fd8c3c060e",
   "metadata": {},
   "outputs": [
    {
     "data": {
      "text/plain": [
       "purpose_group\n",
       "недвижимость    5039\n",
       "автомобиль      4306\n",
       "образование     4013\n",
       "жилье           3809\n",
       "свадьба         2324\n",
       "коммерческий    1311\n",
       "сдача            651\n",
       "Name: count, dtype: int64"
      ]
     },
     "execution_count": 35,
     "metadata": {},
     "output_type": "execute_result"
    }
   ],
   "source": [
    "df['purpose_group'].value_counts()"
   ]
  },
  {
   "cell_type": "markdown",
   "id": "e7e0b059-3db4-449c-838e-f0ad44c61d01",
   "metadata": {},
   "source": [
    "- Жилье тоже относится к недвижимости, поэтому сделаем соответствующую замену.\n",
    "- Еще заменим категории по покупке коммерческой недвижимости или покупке жилой недвижимости для сдачи в наем на инвестиционную цель и снова посчитаем число категорий."
   ]
  },
  {
   "cell_type": "code",
   "execution_count": 36,
   "id": "c062d0d9-4f4f-4767-8ad6-ce4d5c90a2b5",
   "metadata": {},
   "outputs": [
    {
     "data": {
      "text/plain": [
       "purpose_group\n",
       "недвижимость           8848\n",
       "автомобиль             4306\n",
       "образование            4013\n",
       "свадьба                2324\n",
       "инвестиционная цель    1962\n",
       "Name: count, dtype: int64"
      ]
     },
     "execution_count": 36,
     "metadata": {},
     "output_type": "execute_result"
    }
   ],
   "source": [
    "df.loc[df['purpose_group'] == 'жилье', 'purpose_group'] = 'недвижимость'\n",
    "df.loc[(df['purpose_group'] == 'коммерческий') | (df['purpose_group'] == 'сдача'), 'purpose_group'] = 'инвестиционная цель'\n",
    "df['purpose_group'].value_counts()"
   ]
  },
  {
   "cell_type": "markdown",
   "id": "d668f5a7-fef3-4e36-9dee-5d67fb099b4f",
   "metadata": {},
   "source": [
    "**Вывод**\n",
    "\n",
    "Из цели получения кредита каждого клиента было выделено по одному ключевому слову:\n",
    "\n",
    "- цель на покупку своего автомобиля заменяется на автомобиль.\n",
    "- цель покупка жилой недвижимости заменяется на недвижимость.\n",
    "- и т.д..\n",
    "\n",
    "Подобное выделение ключевых слов из целей клиентов упрощает дальнейший анализ и сохраняет основной смысл цели получения кредита.\n",
    "\n",
    "Все цели, содержащие производные слова от слова жилье (3809 чел.), были заменены на категорию недвижимость (цели с исходным ключевым словом насчитывают 5040 чел.), кроме целей по покупке коммерческой недвижимости (1311 чел.) или покупке жилой недвижимости для сдачи в наем (651 чел.).\n",
    "\n",
    "Если обычная покупка жилой недвижимости относится к конечному потреблению, то приобретение коммерческой недвижимости или недвижимости для сдачи в наем относится к инвестиционным целям, т.е. этот кредит клиенты планируют не только вернуть, но вероятно еще и окупить. То есть клиенты планируют в ближайшем будущем получать положительный денежный поток. Доля таких клиентов составляет 9,1% от общего числа клиентов, поэтому ими не стоит пренебрегать, а стоит выделить отдельно."
   ]
  },
  {
   "cell_type": "markdown",
   "id": "0cf33b8b-820f-4d92-a4b9-d694a17abe4f",
   "metadata": {},
   "source": [
    "### Категоризация данных"
   ]
  },
  {
   "cell_type": "markdown",
   "id": "50a87d7d-8c2f-4565-978c-b7b8b6125a38",
   "metadata": {},
   "source": [
    "Ранее уже были созданы два вида категорий: один — по возрастам ('age_group'), другой — по целям ('purpose_category'). Но для ответа на поставленные вопросы потребуется провести еще одну категоризацию — по доходам. Для этого воспользуемся квантилями 25%, 50% и 75%."
   ]
  },
  {
   "cell_type": "code",
   "execution_count": 37,
   "id": "f07c795b-906f-49fb-844c-b654624e795a",
   "metadata": {},
   "outputs": [
    {
     "data": {
      "text/plain": [
       "25%    107620.0\n",
       "50%    142594.0\n",
       "75%    195818.0\n",
       "Name: total_income, dtype: float64"
      ]
     },
     "execution_count": 37,
     "metadata": {},
     "output_type": "execute_result"
    }
   ],
   "source": [
    "statistics = df['total_income'].describe()\n",
    "statistics[4:7]"
   ]
  },
  {
   "cell_type": "markdown",
   "id": "faeba39a-56bb-4c24-8b22-7da5601aaf8d",
   "metadata": {},
   "source": [
    "- Функция для определения категории доходов."
   ]
  },
  {
   "cell_type": "code",
   "execution_count": 38,
   "id": "68bf7406-5596-44b9-baf1-0678084f9b63",
   "metadata": {},
   "outputs": [],
   "source": [
    "def determine_income_group(income):\n",
    "    if income <= statistics[4]: return 1\n",
    "    elif statistics[4] < income <= statistics[5]: return 2\n",
    "    elif statistics[5] < income <= statistics[6]: return 3\n",
    "    else: return 4"
   ]
  },
  {
   "cell_type": "markdown",
   "id": "9ebbbdc7-a847-491d-9072-294c9b8bc8a5",
   "metadata": {},
   "source": [
    "- Применим функцию к столбцу доходов."
   ]
  },
  {
   "cell_type": "code",
   "execution_count": 39,
   "id": "241119cf-2c7a-4add-8052-1ddc8c97cf3c",
   "metadata": {},
   "outputs": [
    {
     "data": {
      "text/html": [
       "<div>\n",
       "<style scoped>\n",
       "    .dataframe tbody tr th:only-of-type {\n",
       "        vertical-align: middle;\n",
       "    }\n",
       "\n",
       "    .dataframe tbody tr th {\n",
       "        vertical-align: top;\n",
       "    }\n",
       "\n",
       "    .dataframe thead th {\n",
       "        text-align: right;\n",
       "    }\n",
       "</style>\n",
       "<table border=\"1\" class=\"dataframe\">\n",
       "  <thead>\n",
       "    <tr style=\"text-align: right;\">\n",
       "      <th></th>\n",
       "      <th>children</th>\n",
       "      <th>days_employed</th>\n",
       "      <th>dob_years</th>\n",
       "      <th>education</th>\n",
       "      <th>education_id</th>\n",
       "      <th>family_status</th>\n",
       "      <th>family_status_id</th>\n",
       "      <th>gender</th>\n",
       "      <th>income_type</th>\n",
       "      <th>debt</th>\n",
       "      <th>total_income</th>\n",
       "      <th>purpose</th>\n",
       "      <th>age_group</th>\n",
       "      <th>purpose_group</th>\n",
       "      <th>income_group</th>\n",
       "    </tr>\n",
       "  </thead>\n",
       "  <tbody>\n",
       "    <tr>\n",
       "      <th>0</th>\n",
       "      <td>1</td>\n",
       "      <td>8437</td>\n",
       "      <td>42</td>\n",
       "      <td>высшее</td>\n",
       "      <td>0</td>\n",
       "      <td>женат / замужем</td>\n",
       "      <td>0</td>\n",
       "      <td>F</td>\n",
       "      <td>сотрудник</td>\n",
       "      <td>0</td>\n",
       "      <td>253875</td>\n",
       "      <td>покупка жилья</td>\n",
       "      <td>34-43</td>\n",
       "      <td>недвижимость</td>\n",
       "      <td>4</td>\n",
       "    </tr>\n",
       "    <tr>\n",
       "      <th>1</th>\n",
       "      <td>1</td>\n",
       "      <td>4024</td>\n",
       "      <td>36</td>\n",
       "      <td>среднее</td>\n",
       "      <td>1</td>\n",
       "      <td>женат / замужем</td>\n",
       "      <td>0</td>\n",
       "      <td>F</td>\n",
       "      <td>сотрудник</td>\n",
       "      <td>0</td>\n",
       "      <td>112080</td>\n",
       "      <td>приобретение автомобиля</td>\n",
       "      <td>34-43</td>\n",
       "      <td>автомобиль</td>\n",
       "      <td>2</td>\n",
       "    </tr>\n",
       "    <tr>\n",
       "      <th>2</th>\n",
       "      <td>0</td>\n",
       "      <td>5623</td>\n",
       "      <td>33</td>\n",
       "      <td>среднее</td>\n",
       "      <td>1</td>\n",
       "      <td>женат / замужем</td>\n",
       "      <td>0</td>\n",
       "      <td>M</td>\n",
       "      <td>сотрудник</td>\n",
       "      <td>0</td>\n",
       "      <td>145885</td>\n",
       "      <td>покупка жилья</td>\n",
       "      <td>до 34</td>\n",
       "      <td>недвижимость</td>\n",
       "      <td>3</td>\n",
       "    </tr>\n",
       "    <tr>\n",
       "      <th>3</th>\n",
       "      <td>3</td>\n",
       "      <td>4124</td>\n",
       "      <td>32</td>\n",
       "      <td>среднее</td>\n",
       "      <td>1</td>\n",
       "      <td>женат / замужем</td>\n",
       "      <td>0</td>\n",
       "      <td>M</td>\n",
       "      <td>сотрудник</td>\n",
       "      <td>0</td>\n",
       "      <td>267628</td>\n",
       "      <td>дополнительное образование</td>\n",
       "      <td>до 34</td>\n",
       "      <td>образование</td>\n",
       "      <td>4</td>\n",
       "    </tr>\n",
       "    <tr>\n",
       "      <th>4</th>\n",
       "      <td>0</td>\n",
       "      <td>340266</td>\n",
       "      <td>53</td>\n",
       "      <td>среднее</td>\n",
       "      <td>1</td>\n",
       "      <td>гражданский брак</td>\n",
       "      <td>1</td>\n",
       "      <td>F</td>\n",
       "      <td>пенсионер</td>\n",
       "      <td>0</td>\n",
       "      <td>158616</td>\n",
       "      <td>сыграть свадьбу</td>\n",
       "      <td>43-53</td>\n",
       "      <td>свадьба</td>\n",
       "      <td>3</td>\n",
       "    </tr>\n",
       "  </tbody>\n",
       "</table>\n",
       "</div>"
      ],
      "text/plain": [
       "   children  days_employed  dob_years education  education_id  \\\n",
       "0         1           8437         42    высшее             0   \n",
       "1         1           4024         36   среднее             1   \n",
       "2         0           5623         33   среднее             1   \n",
       "3         3           4124         32   среднее             1   \n",
       "4         0         340266         53   среднее             1   \n",
       "\n",
       "      family_status  family_status_id gender income_type  debt  total_income  \\\n",
       "0   женат / замужем                 0      F   сотрудник     0        253875   \n",
       "1   женат / замужем                 0      F   сотрудник     0        112080   \n",
       "2   женат / замужем                 0      M   сотрудник     0        145885   \n",
       "3   женат / замужем                 0      M   сотрудник     0        267628   \n",
       "4  гражданский брак                 1      F   пенсионер     0        158616   \n",
       "\n",
       "                      purpose age_group purpose_group  income_group  \n",
       "0               покупка жилья     34-43  недвижимость             4  \n",
       "1     приобретение автомобиля     34-43    автомобиль             2  \n",
       "2               покупка жилья     до 34  недвижимость             3  \n",
       "3  дополнительное образование     до 34   образование             4  \n",
       "4             сыграть свадьбу     43-53       свадьба             3  "
      ]
     },
     "execution_count": 39,
     "metadata": {},
     "output_type": "execute_result"
    }
   ],
   "source": [
    "df['income_group'] = df['total_income'].apply(determine_income_group)\n",
    "df.head()"
   ]
  },
  {
   "cell_type": "markdown",
   "id": "9a9b7c57-8099-4ff4-9f09-139784f19adc",
   "metadata": {},
   "source": [
    "**Вывод**"
   ]
  },
  {
   "cell_type": "markdown",
   "id": "50e3dc80-cf36-4d32-97ab-362773c9f5cb",
   "metadata": {},
   "source": [
    "**Категоризация по возрастам**\n",
    "\n",
    "Категоризация по возрастам ('age_group') была проведена при устранении пропущенных значений: в ней были использованы квантили (25%, 50% и 75%):"
   ]
  },
  {
   "cell_type": "code",
   "execution_count": 40,
   "id": "8a5b6bfa-1f48-4c6f-acdb-a30951c84973",
   "metadata": {},
   "outputs": [
    {
     "data": {
      "text/plain": [
       "age_group\n",
       "до 34    5966\n",
       "34-43    5276\n",
       "53+      5275\n",
       "43-53    4936\n",
       "Name: count, dtype: int64"
      ]
     },
     "execution_count": 40,
     "metadata": {},
     "output_type": "execute_result"
    }
   ],
   "source": [
    "df['age_group'].value_counts()"
   ]
  },
  {
   "cell_type": "markdown",
   "id": "3f36aba5-8f81-407f-bad0-feef24d8bbfb",
   "metadata": {},
   "source": [
    "Больше всего клиентов в возрасте до 34 лет, их доля составляет 27,8%."
   ]
  },
  {
   "cell_type": "markdown",
   "id": "949d0901-e4b3-4979-ba7a-d2101ea95b25",
   "metadata": {},
   "source": [
    "**Категоризация по целям**"
   ]
  },
  {
   "cell_type": "markdown",
   "id": "3ef08dbb-00da-4241-acdb-75a2a1097043",
   "metadata": {},
   "source": [
    "Категоризация по целям ('purpose_category') была проведена ранее при лемматизации."
   ]
  },
  {
   "cell_type": "code",
   "execution_count": 41,
   "id": "f76f3b70-b378-4843-9451-efd4954a0bee",
   "metadata": {},
   "outputs": [
    {
     "data": {
      "text/plain": [
       "purpose_group\n",
       "недвижимость           8848\n",
       "автомобиль             4306\n",
       "образование            4013\n",
       "свадьба                2324\n",
       "инвестиционная цель    1962\n",
       "Name: count, dtype: int64"
      ]
     },
     "execution_count": 41,
     "metadata": {},
     "output_type": "execute_result"
    }
   ],
   "source": [
    "df['purpose_group'].value_counts()"
   ]
  },
  {
   "cell_type": "markdown",
   "id": "837d77d6-1e93-4958-bb35-0cb67343fa53",
   "metadata": {},
   "source": [
    "Чаще всего клиенты берут кредит для приобретения недвижимости: доля таких клиентов из общего числа составляет 41,2%."
   ]
  },
  {
   "cell_type": "markdown",
   "id": "c918f024-d756-435f-8941-af7c02b96738",
   "metadata": {},
   "source": [
    "**Категоризация по доходам**"
   ]
  },
  {
   "cell_type": "markdown",
   "id": "098b39ba-e646-4b7c-9138-bac54fbbc37c",
   "metadata": {},
   "source": [
    "В качестве границ для категоризации доходов были использованы квантили (25%, 50% и 75%)."
   ]
  },
  {
   "cell_type": "code",
   "execution_count": 42,
   "id": "ebe2f0d9-b6dc-4389-adc9-e1a4de1b19b7",
   "metadata": {},
   "outputs": [
    {
     "data": {
      "text/plain": [
       "income_group\n",
       "2    5479\n",
       "1    5364\n",
       "4    5363\n",
       "3    5247\n",
       "Name: count, dtype: int64"
      ]
     },
     "execution_count": 42,
     "metadata": {},
     "output_type": "execute_result"
    }
   ],
   "source": [
    "df['income_group'].value_counts()"
   ]
  },
  {
   "cell_type": "markdown",
   "id": "09f16e1a-2e90-40b5-a6a4-41205726af62",
   "metadata": {},
   "source": [
    "Иначе говоря:\n",
    "\n",
    "- доход 5364 человек меньше или равен 107,6 тыс. рублей\n",
    "- доход 5479 человек находится в диапазоне от 107,6 до 142,6 тыс. рублей\n",
    "- доход 5247 человек находится в диапазоне от 142,6 до 195,8 тыс. рублей\n",
    "- 5364 человек зарабатывают больше 195,8 тыс. рублей"
   ]
  },
  {
   "cell_type": "markdown",
   "id": "01b0c99c-bf15-4bc3-a9e2-fa346cc0e28f",
   "metadata": {},
   "source": [
    "# 3. Ответьте на вопросы"
   ]
  },
  {
   "cell_type": "markdown",
   "id": "b034e499-88a7-4b94-82fe-800f596e2014",
   "metadata": {},
   "source": [
    "- Есть ли зависимость между наличием детей и возвратом кредита в срок?"
   ]
  },
  {
   "cell_type": "code",
   "execution_count": 43,
   "id": "3d0d32a5-f0bc-4b36-bb51-9c8454cae8cd",
   "metadata": {},
   "outputs": [
    {
     "data": {
      "text/html": [
       "<div>\n",
       "<style scoped>\n",
       "    .dataframe tbody tr th:only-of-type {\n",
       "        vertical-align: middle;\n",
       "    }\n",
       "\n",
       "    .dataframe tbody tr th {\n",
       "        vertical-align: top;\n",
       "    }\n",
       "\n",
       "    .dataframe thead th {\n",
       "        text-align: right;\n",
       "    }\n",
       "</style>\n",
       "<table border=\"1\" class=\"dataframe\">\n",
       "  <thead>\n",
       "    <tr style=\"text-align: right;\">\n",
       "      <th></th>\n",
       "      <th>children</th>\n",
       "      <th>debt</th>\n",
       "    </tr>\n",
       "  </thead>\n",
       "  <tbody>\n",
       "    <tr>\n",
       "      <th>4</th>\n",
       "      <td>4</td>\n",
       "      <td>0.097561</td>\n",
       "    </tr>\n",
       "    <tr>\n",
       "      <th>2</th>\n",
       "      <td>2</td>\n",
       "      <td>0.094925</td>\n",
       "    </tr>\n",
       "    <tr>\n",
       "      <th>1</th>\n",
       "      <td>1</td>\n",
       "      <td>0.091658</td>\n",
       "    </tr>\n",
       "    <tr>\n",
       "      <th>3</th>\n",
       "      <td>3</td>\n",
       "      <td>0.081818</td>\n",
       "    </tr>\n",
       "    <tr>\n",
       "      <th>0</th>\n",
       "      <td>0</td>\n",
       "      <td>0.075444</td>\n",
       "    </tr>\n",
       "    <tr>\n",
       "      <th>5</th>\n",
       "      <td>5</td>\n",
       "      <td>0.000000</td>\n",
       "    </tr>\n",
       "  </tbody>\n",
       "</table>\n",
       "</div>"
      ],
      "text/plain": [
       "   children      debt\n",
       "4         4  0.097561\n",
       "2         2  0.094925\n",
       "1         1  0.091658\n",
       "3         3  0.081818\n",
       "0         0  0.075444\n",
       "5         5  0.000000"
      ]
     },
     "execution_count": 43,
     "metadata": {},
     "output_type": "execute_result"
    }
   ],
   "source": [
    "debt_from_children = df.groupby('children')['debt'].mean().reset_index()\n",
    "debt_from_children.sort_values('debt', ascending = False)"
   ]
  },
  {
   "cell_type": "markdown",
   "id": "0e923e93-8a68-4bf1-8572-f82c203ea57a",
   "metadata": {},
   "source": [
    "**Вывод**\n",
    "\n",
    "Чем больше детей в семье, тем больше просроченной задолженности. Но дети с тремя детьми чаще платят в срок, чем семьи с одним ребенком. А семьи без детей еще реже просрачивают платежи по кредиту, чем семьи с детьми."
   ]
  },
  {
   "cell_type": "markdown",
   "id": "90749f2c-0e48-4a27-804b-7fd62cb50dae",
   "metadata": {},
   "source": [
    "- Есть ли зависимость между семейным положением и возвратом кредита в срок?"
   ]
  },
  {
   "cell_type": "code",
   "execution_count": 44,
   "id": "5a4c676a-5007-4817-9134-f731eeea76f7",
   "metadata": {},
   "outputs": [
    {
     "data": {
      "text/html": [
       "<div>\n",
       "<style scoped>\n",
       "    .dataframe tbody tr th:only-of-type {\n",
       "        vertical-align: middle;\n",
       "    }\n",
       "\n",
       "    .dataframe tbody tr th {\n",
       "        vertical-align: top;\n",
       "    }\n",
       "\n",
       "    .dataframe thead th {\n",
       "        text-align: right;\n",
       "    }\n",
       "</style>\n",
       "<table border=\"1\" class=\"dataframe\">\n",
       "  <thead>\n",
       "    <tr style=\"text-align: right;\">\n",
       "      <th></th>\n",
       "      <th>family_status</th>\n",
       "      <th>debt</th>\n",
       "    </tr>\n",
       "  </thead>\n",
       "  <tbody>\n",
       "    <tr>\n",
       "      <th>0</th>\n",
       "      <td>Не женат / не замужем</td>\n",
       "      <td>0.097509</td>\n",
       "    </tr>\n",
       "    <tr>\n",
       "      <th>3</th>\n",
       "      <td>гражданский брак</td>\n",
       "      <td>0.093494</td>\n",
       "    </tr>\n",
       "    <tr>\n",
       "      <th>4</th>\n",
       "      <td>женат / замужем</td>\n",
       "      <td>0.075452</td>\n",
       "    </tr>\n",
       "    <tr>\n",
       "      <th>1</th>\n",
       "      <td>в разводе</td>\n",
       "      <td>0.071130</td>\n",
       "    </tr>\n",
       "    <tr>\n",
       "      <th>2</th>\n",
       "      <td>вдовец / вдова</td>\n",
       "      <td>0.065693</td>\n",
       "    </tr>\n",
       "  </tbody>\n",
       "</table>\n",
       "</div>"
      ],
      "text/plain": [
       "           family_status      debt\n",
       "0  Не женат / не замужем  0.097509\n",
       "3       гражданский брак  0.093494\n",
       "4        женат / замужем  0.075452\n",
       "1              в разводе  0.071130\n",
       "2         вдовец / вдова  0.065693"
      ]
     },
     "execution_count": 44,
     "metadata": {},
     "output_type": "execute_result"
    }
   ],
   "source": [
    "debt_from_family_status = df.groupby('family_status')['debt'].mean().reset_index()\n",
    "debt_from_family_status.sort_values('debt', ascending = False)"
   ]
  },
  {
   "cell_type": "markdown",
   "id": "15330df0-40d4-4079-9385-387781915486",
   "metadata": {},
   "source": [
    "**Вывод**\n",
    "\n",
    "Холостые и те кто живет в гражданском браке чаще просрачивают платежи, а те кто в разводе или овдовели чаще возвращают кредит в срок чем женатые/замужние."
   ]
  },
  {
   "cell_type": "markdown",
   "id": "9334d30e-bb30-48ca-840d-d38edd880fed",
   "metadata": {},
   "source": [
    "- Есть ли зависимость между уровнем дохода и возвратом кредита в срок?"
   ]
  },
  {
   "cell_type": "code",
   "execution_count": 45,
   "id": "9937129e-bee8-4bf4-bf09-60729114029d",
   "metadata": {},
   "outputs": [],
   "source": [
    "df_pivot = df.pivot_table(index = ['income_group'], columns = 'debt', values = 'gender', aggfunc = 'count')"
   ]
  },
  {
   "cell_type": "markdown",
   "id": "116302d3-9c30-40f7-a667-cdd2c89ca002",
   "metadata": {},
   "source": [
    "- Посчитаем вероятность задолженности для каждой группы доходов"
   ]
  },
  {
   "cell_type": "code",
   "execution_count": 46,
   "id": "3f9d2030-c25a-450d-9883-3963b9b38ea1",
   "metadata": {},
   "outputs": [
    {
     "data": {
      "text/html": [
       "<div>\n",
       "<style scoped>\n",
       "    .dataframe tbody tr th:only-of-type {\n",
       "        vertical-align: middle;\n",
       "    }\n",
       "\n",
       "    .dataframe tbody tr th {\n",
       "        vertical-align: top;\n",
       "    }\n",
       "\n",
       "    .dataframe thead th {\n",
       "        text-align: right;\n",
       "    }\n",
       "</style>\n",
       "<table border=\"1\" class=\"dataframe\">\n",
       "  <thead>\n",
       "    <tr style=\"text-align: right;\">\n",
       "      <th>debt</th>\n",
       "      <th>0</th>\n",
       "      <th>1</th>\n",
       "      <th>ratio</th>\n",
       "    </tr>\n",
       "    <tr>\n",
       "      <th>income_group</th>\n",
       "      <th></th>\n",
       "      <th></th>\n",
       "      <th></th>\n",
       "    </tr>\n",
       "  </thead>\n",
       "  <tbody>\n",
       "    <tr>\n",
       "      <th>2</th>\n",
       "      <td>4996</td>\n",
       "      <td>483</td>\n",
       "      <td>0.088</td>\n",
       "    </tr>\n",
       "    <tr>\n",
       "      <th>3</th>\n",
       "      <td>4799</td>\n",
       "      <td>448</td>\n",
       "      <td>0.085</td>\n",
       "    </tr>\n",
       "    <tr>\n",
       "      <th>1</th>\n",
       "      <td>4937</td>\n",
       "      <td>427</td>\n",
       "      <td>0.080</td>\n",
       "    </tr>\n",
       "    <tr>\n",
       "      <th>4</th>\n",
       "      <td>4980</td>\n",
       "      <td>383</td>\n",
       "      <td>0.071</td>\n",
       "    </tr>\n",
       "  </tbody>\n",
       "</table>\n",
       "</div>"
      ],
      "text/plain": [
       "debt             0    1  ratio\n",
       "income_group                  \n",
       "2             4996  483  0.088\n",
       "3             4799  448  0.085\n",
       "1             4937  427  0.080\n",
       "4             4980  383  0.071"
      ]
     },
     "execution_count": 46,
     "metadata": {},
     "output_type": "execute_result"
    }
   ],
   "source": [
    "df_pivot['ratio'] = round(df_pivot[1] / (df_pivot[0] + df_pivot[1]), 3)\n",
    "df_pivot.sort_values('ratio', ascending = False)"
   ]
  },
  {
   "cell_type": "markdown",
   "id": "09dfaf1b-62d2-41a0-b722-7398cc23b26a",
   "metadata": {},
   "source": [
    "**Вывод**\n",
    "\n",
    "Нет зависимости между уровнем дохода и возвратом кредита в срок."
   ]
  },
  {
   "cell_type": "markdown",
   "id": "c040361a-9b70-4a2f-8cca-8f18a5378eec",
   "metadata": {},
   "source": [
    "- Как разные цели кредита влияют на его возврат в срок?"
   ]
  },
  {
   "cell_type": "code",
   "execution_count": 47,
   "id": "844707b2-6344-4e70-ba3b-ff52ce1cd858",
   "metadata": {},
   "outputs": [],
   "source": [
    "df_pivot = df.pivot_table(index = ['purpose_group'], columns = 'debt', values = 'gender', aggfunc = 'count')"
   ]
  },
  {
   "cell_type": "markdown",
   "id": "84c41b7f-6cf0-40f0-b89d-0bd56510ddda",
   "metadata": {},
   "source": [
    "- Посчитаем вероятность задолженности для каждой группы доходов"
   ]
  },
  {
   "cell_type": "code",
   "execution_count": 48,
   "id": "2c7b4446-f4e5-4b3c-b9c7-e94b6bf5ef54",
   "metadata": {},
   "outputs": [
    {
     "data": {
      "text/html": [
       "<div>\n",
       "<style scoped>\n",
       "    .dataframe tbody tr th:only-of-type {\n",
       "        vertical-align: middle;\n",
       "    }\n",
       "\n",
       "    .dataframe tbody tr th {\n",
       "        vertical-align: top;\n",
       "    }\n",
       "\n",
       "    .dataframe thead th {\n",
       "        text-align: right;\n",
       "    }\n",
       "</style>\n",
       "<table border=\"1\" class=\"dataframe\">\n",
       "  <thead>\n",
       "    <tr style=\"text-align: right;\">\n",
       "      <th>debt</th>\n",
       "      <th>0</th>\n",
       "      <th>1</th>\n",
       "      <th>ratio</th>\n",
       "    </tr>\n",
       "    <tr>\n",
       "      <th>purpose_group</th>\n",
       "      <th></th>\n",
       "      <th></th>\n",
       "      <th></th>\n",
       "    </tr>\n",
       "  </thead>\n",
       "  <tbody>\n",
       "    <tr>\n",
       "      <th>автомобиль</th>\n",
       "      <td>3903</td>\n",
       "      <td>403</td>\n",
       "      <td>0.094</td>\n",
       "    </tr>\n",
       "    <tr>\n",
       "      <th>образование</th>\n",
       "      <td>3643</td>\n",
       "      <td>370</td>\n",
       "      <td>0.092</td>\n",
       "    </tr>\n",
       "    <tr>\n",
       "      <th>свадьба</th>\n",
       "      <td>2138</td>\n",
       "      <td>186</td>\n",
       "      <td>0.080</td>\n",
       "    </tr>\n",
       "    <tr>\n",
       "      <th>инвестиционная цель</th>\n",
       "      <td>1811</td>\n",
       "      <td>151</td>\n",
       "      <td>0.077</td>\n",
       "    </tr>\n",
       "    <tr>\n",
       "      <th>недвижимость</th>\n",
       "      <td>8217</td>\n",
       "      <td>631</td>\n",
       "      <td>0.071</td>\n",
       "    </tr>\n",
       "  </tbody>\n",
       "</table>\n",
       "</div>"
      ],
      "text/plain": [
       "debt                    0    1  ratio\n",
       "purpose_group                        \n",
       "автомобиль           3903  403  0.094\n",
       "образование          3643  370  0.092\n",
       "свадьба              2138  186  0.080\n",
       "инвестиционная цель  1811  151  0.077\n",
       "недвижимость         8217  631  0.071"
      ]
     },
     "execution_count": 48,
     "metadata": {},
     "output_type": "execute_result"
    }
   ],
   "source": [
    "df_pivot['ratio'] = round(df_pivot[1] / (df_pivot[0] + df_pivot[1]), 3)\n",
    "df_pivot.sort_values('ratio', ascending = False)"
   ]
  },
  {
   "cell_type": "markdown",
   "id": "24d2088c-5b9a-4f68-bb58-24845fb70347",
   "metadata": {},
   "source": [
    "**Вывод**\n",
    "\n",
    "Получившиеся вероятности задолженности для каждой цели получения кредита, отсортированные по убыванию:\n",
    "\n",
    "- автомобиль - 9,4%\n",
    "- образование - 9,2%\n",
    "- свадьба - 8,0%\n",
    "- инвестиционная цель - 7,7%\n",
    "- недвижимость - 7,1%\n",
    "\n",
    "Самая низкая вероятность задолженности у клиентов, которые берут кредит для собственной недвижимости (покупка, строительство и т.д.). Люди настолько заинтересованы в собственном жилье, что платят даже ответственнее по сравнению с теми, кто берет кредит на инвестиционные цели (7,1% против 7,7%). Интересный факт: клиенты, берущие кредит на свадьбу, не самые безответственные плательщики из выборки – для них вероятность всего 8,0%. Хуже них платят только по образовательным и автокредитам."
   ]
  },
  {
   "cell_type": "markdown",
   "id": "f9c6378d-278b-47b4-8e13-126f9e10ce07",
   "metadata": {},
   "source": [
    "# 4. Общий вывод"
   ]
  },
  {
   "cell_type": "markdown",
   "id": "806baf9f-04a9-4733-8039-daeb83d312e9",
   "metadata": {},
   "source": [
    "Профиль идеального клиента можно было бы изобразить следующим образом: это либо женатый мужчина, либо замужняя женщина (возможно, когда-то бывшие в браке), не имеющие детей, с месячным доходом свыше 196 тысяч рублей и целью кредитования — покупка собственного жилья. Такой портрет указывает на высокий уровень ответственности, что проявляется в статусе официального брака, достаточно высоком уровне дохода и отсутствии детей, что свидетельствует о наличии финансовых средств для обслуживания кредита, а также наличии конкретной материальной цели и отсутствии дополнительных финансовых обязательств.\n",
    "\n",
    "В процессе анализа данных были обнаружены пропуски в столбцах, касающихся трудового стажа и дохода, каждый из которых составлял 2174 случая. Исследование показало, что пропуски в данных столбцах случайны и могут быть обусловлены тем, что люди на руководящих должностях или с образованием из престижных вузов чаще других не предоставляют информацию о своих доходах.\n",
    "\n",
    "Учитывая случайный характер пропусков, возможные способы их корректировки включали удаление, взвешивание или заполнение пропусков. Хотя удаление данных (меньше одного процента от общего объема) было возможно, я выбрал заполнение пропусков медианными значениями для каждой подгруппы внутри столбца, поскольку информация — это ценный ресурс современности."
   ]
  },
  {
   "cell_type": "code",
   "execution_count": null,
   "id": "bbfcd509-ff67-44e9-b6c4-5998be65f12e",
   "metadata": {},
   "outputs": [],
   "source": []
  }
 ],
 "metadata": {
  "kernelspec": {
   "display_name": "Python 3 (ipykernel)",
   "language": "python",
   "name": "python3"
  },
  "language_info": {
   "codemirror_mode": {
    "name": "ipython",
    "version": 3
   },
   "file_extension": ".py",
   "mimetype": "text/x-python",
   "name": "python",
   "nbconvert_exporter": "python",
   "pygments_lexer": "ipython3",
   "version": "3.11.8"
  }
 },
 "nbformat": 4,
 "nbformat_minor": 5
}
