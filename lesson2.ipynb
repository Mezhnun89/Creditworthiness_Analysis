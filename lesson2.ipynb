{
 "cells": [
  {
   "cell_type": "markdown",
   "id": "a1409341-be3c-4a9d-9fbf-827cb8ef4122",
   "metadata": {},
   "source": [
    "# Исследование надёжности заёмщиков\n",
    "Заказчик — кредитный отдел банка. Нужно разобраться, влияет ли семейное положение и количество детей клиента на факт погашения кредита в срок. Входные данные от банка — статистика о платёжеспособности клиентов.\n",
    "\n",
    "Результаты исследования будут учтены при построении модели кредитного скоринга — специальной системы, которая оценивает способность потенциального заёмщика вернуть кредит банку."
   ]
  },
  {
   "cell_type": "markdown",
   "id": "c5bdcd02-985e-485d-b7f0-8cf5cfe73388",
   "metadata": {},
   "source": [
    "# 1. Откройте файл с данными и изучите общую информацию"
   ]
  },
  {
   "cell_type": "code",
   "execution_count": 4,
   "id": "3dfc153c-77ee-4463-92d4-0f15d93ef6f8",
   "metadata": {},
   "outputs": [
    {
     "name": "stdout",
     "output_type": "stream",
     "text": [
      "<class 'pandas.core.frame.DataFrame'>\n",
      "RangeIndex: 21525 entries, 0 to 21524\n",
      "Data columns (total 12 columns):\n",
      " #   Column            Non-Null Count  Dtype  \n",
      "---  ------            --------------  -----  \n",
      " 0   children          21525 non-null  int64  \n",
      " 1   days_employed     19351 non-null  float64\n",
      " 2   dob_years         21525 non-null  int64  \n",
      " 3   education         21525 non-null  object \n",
      " 4   education_id      21525 non-null  int64  \n",
      " 5   family_status     21525 non-null  object \n",
      " 6   family_status_id  21525 non-null  int64  \n",
      " 7   gender            21525 non-null  object \n",
      " 8   income_type       21525 non-null  object \n",
      " 9   debt              21525 non-null  int64  \n",
      " 10  total_income      19351 non-null  float64\n",
      " 11  purpose           21525 non-null  object \n",
      "dtypes: float64(2), int64(5), object(5)\n",
      "memory usage: 2.0+ MB\n"
     ]
    }
   ],
   "source": [
    "import pandas as pd\n",
    "import numpy as np\n",
    "from pymystem3 import Mystem \n",
    "m = Mystem()\n",
    "df = pd.read_csv('/home/mezhnun/GitHub/Исследование надёжности заёмщиков/data.csv')\n",
    "df.info()"
   ]
  },
  {
   "cell_type": "markdown",
   "id": "28bd393c-ec4a-4fc4-85aa-7052f185fa69",
   "metadata": {},
   "source": [
    "**Вывод**\n",
    "\n",
    "Дата-фрейм имеет 12 колонок и 21 525 строк. В столбцах days_employed и total_income присустствуют пропуски, так как в них содержится 19 351 строках. Скорее всего они находяться в одних и тех же строчках. И соответственно возможно что в датасете присутствуют не платежеспособные клиенты (так как нет стажа и дохода), следовательно не целесообразно им давать кредит. Но наверняка это не известно. Но стоит обратить на это внимание."
   ]
  },
  {
   "cell_type": "code",
   "execution_count": null,
   "id": "b8dfb5b4-7291-46c2-8cd5-3995ddce03ae",
   "metadata": {},
   "outputs": [],
   "source": []
  }
 ],
 "metadata": {
  "kernelspec": {
   "display_name": "Python 3 (ipykernel)",
   "language": "python",
   "name": "python3"
  },
  "language_info": {
   "codemirror_mode": {
    "name": "ipython",
    "version": 3
   },
   "file_extension": ".py",
   "mimetype": "text/x-python",
   "name": "python",
   "nbconvert_exporter": "python",
   "pygments_lexer": "ipython3",
   "version": "3.11.8"
  }
 },
 "nbformat": 4,
 "nbformat_minor": 5
}
